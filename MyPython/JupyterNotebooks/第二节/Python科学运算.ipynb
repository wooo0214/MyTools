{
 "cells": [
  {
   "cell_type": "markdown",
   "metadata": {},
   "source": [
    "## Pandas的Series数据类型"
   ]
  },
  {
   "cell_type": "code",
   "execution_count": 1,
   "metadata": {},
   "outputs": [
    {
     "data": {
      "text/html": [
       "<div>\n",
       "<style scoped>\n",
       "    .dataframe tbody tr th:only-of-type {\n",
       "        vertical-align: middle;\n",
       "    }\n",
       "\n",
       "    .dataframe tbody tr th {\n",
       "        vertical-align: top;\n",
       "    }\n",
       "\n",
       "    .dataframe thead th {\n",
       "        text-align: right;\n",
       "    }\n",
       "</style>\n",
       "<table border=\"1\" class=\"dataframe\">\n",
       "  <thead>\n",
       "    <tr style=\"text-align: right;\">\n",
       "      <th></th>\n",
       "      <th>id</th>\n",
       "      <th>age</th>\n",
       "      <th>place</th>\n",
       "    </tr>\n",
       "  </thead>\n",
       "  <tbody>\n",
       "    <tr>\n",
       "      <th>0</th>\n",
       "      <td>1</td>\n",
       "      <td>11</td>\n",
       "      <td>21</td>\n",
       "    </tr>\n",
       "    <tr>\n",
       "      <th>1</th>\n",
       "      <td>2</td>\n",
       "      <td>12</td>\n",
       "      <td>22</td>\n",
       "    </tr>\n",
       "    <tr>\n",
       "      <th>2</th>\n",
       "      <td>3</td>\n",
       "      <td>13</td>\n",
       "      <td>23</td>\n",
       "    </tr>\n",
       "    <tr>\n",
       "      <th>3</th>\n",
       "      <td>4</td>\n",
       "      <td>14</td>\n",
       "      <td>24</td>\n",
       "    </tr>\n",
       "    <tr>\n",
       "      <th>4</th>\n",
       "      <td>5</td>\n",
       "      <td>15</td>\n",
       "      <td>25</td>\n",
       "    </tr>\n",
       "    <tr>\n",
       "      <th>5</th>\n",
       "      <td>6</td>\n",
       "      <td>16</td>\n",
       "      <td>26</td>\n",
       "    </tr>\n",
       "    <tr>\n",
       "      <th>6</th>\n",
       "      <td>7</td>\n",
       "      <td>17</td>\n",
       "      <td>27</td>\n",
       "    </tr>\n",
       "    <tr>\n",
       "      <th>7</th>\n",
       "      <td>8</td>\n",
       "      <td>18</td>\n",
       "      <td>28</td>\n",
       "    </tr>\n",
       "    <tr>\n",
       "      <th>8</th>\n",
       "      <td>9</td>\n",
       "      <td>19</td>\n",
       "      <td>29</td>\n",
       "    </tr>\n",
       "    <tr>\n",
       "      <th>9</th>\n",
       "      <td>10</td>\n",
       "      <td>20</td>\n",
       "      <td>30</td>\n",
       "    </tr>\n",
       "  </tbody>\n",
       "</table>\n",
       "</div>"
      ],
      "text/plain": [
       "   id  age  place\n",
       "0   1   11     21\n",
       "1   2   12     22\n",
       "2   3   13     23\n",
       "3   4   14     24\n",
       "4   5   15     25\n",
       "5   6   16     26\n",
       "6   7   17     27\n",
       "7   8   18     28\n",
       "8   9   19     29\n",
       "9  10   20     30"
      ]
     },
     "execution_count": 1,
     "metadata": {},
     "output_type": "execute_result"
    }
   ],
   "source": [
    "# 导入pandas包\n",
    "import pandas as pd\n",
    "data = pd.read_excel('data_excel.xlsx')\n",
    "data"
   ]
  },
  {
   "cell_type": "code",
   "execution_count": 2,
   "metadata": {},
   "outputs": [
    {
     "data": {
      "text/plain": [
       "pandas.core.frame.DataFrame"
      ]
     },
     "execution_count": 2,
     "metadata": {},
     "output_type": "execute_result"
    }
   ],
   "source": [
    "type(data)"
   ]
  },
  {
   "cell_type": "code",
   "execution_count": 3,
   "metadata": {},
   "outputs": [
    {
     "data": {
      "text/plain": [
       "0     1\n",
       "1     2\n",
       "2     3\n",
       "3     4\n",
       "4     5\n",
       "5     6\n",
       "6     7\n",
       "7     8\n",
       "8     9\n",
       "9    10\n",
       "Name: id, dtype: int64"
      ]
     },
     "execution_count": 3,
     "metadata": {},
     "output_type": "execute_result"
    }
   ],
   "source": [
    "data['id']"
   ]
  },
  {
   "cell_type": "code",
   "execution_count": 4,
   "metadata": {},
   "outputs": [
    {
     "data": {
      "text/plain": [
       "pandas.core.series.Series"
      ]
     },
     "execution_count": 4,
     "metadata": {},
     "output_type": "execute_result"
    }
   ],
   "source": [
    "type(data['id'])"
   ]
  },
  {
   "cell_type": "code",
   "execution_count": 5,
   "metadata": {},
   "outputs": [],
   "source": [
    "## 我们如果想要自己声明一个Series数据类型应该怎么办"
   ]
  },
  {
   "cell_type": "code",
   "execution_count": 6,
   "metadata": {},
   "outputs": [],
   "source": [
    "obj = pd.Series([1,2,3,4,5])"
   ]
  },
  {
   "cell_type": "code",
   "execution_count": 7,
   "metadata": {},
   "outputs": [
    {
     "data": {
      "text/plain": [
       "0    1\n",
       "1    2\n",
       "2    3\n",
       "3    4\n",
       "4    5\n",
       "dtype: int64"
      ]
     },
     "execution_count": 7,
     "metadata": {},
     "output_type": "execute_result"
    }
   ],
   "source": [
    "obj"
   ]
  },
  {
   "cell_type": "code",
   "execution_count": 8,
   "metadata": {},
   "outputs": [
    {
     "data": {
      "text/plain": [
       "array([1, 2, 3, 4, 5])"
      ]
     },
     "execution_count": 8,
     "metadata": {},
     "output_type": "execute_result"
    }
   ],
   "source": [
    "## 单独获取索引和值\n",
    "\n",
    "# 单独获取值\n",
    "obj.values"
   ]
  },
  {
   "cell_type": "code",
   "execution_count": 9,
   "metadata": {},
   "outputs": [
    {
     "data": {
      "text/plain": [
       "RangeIndex(start=0, stop=5, step=1)"
      ]
     },
     "execution_count": 9,
     "metadata": {},
     "output_type": "execute_result"
    }
   ],
   "source": [
    "# 单独获取索引\n",
    "obj.index"
   ]
  },
  {
   "cell_type": "code",
   "execution_count": 10,
   "metadata": {},
   "outputs": [],
   "source": [
    "## 如果我们想要自己来自定义索引，该如何操作"
   ]
  },
  {
   "cell_type": "code",
   "execution_count": 11,
   "metadata": {},
   "outputs": [
    {
     "data": {
      "text/plain": [
       "4    a\n",
       "5    b\n",
       "6    c\n",
       "7    d\n",
       "dtype: object"
      ]
     },
     "execution_count": 11,
     "metadata": {},
     "output_type": "execute_result"
    }
   ],
   "source": [
    "d = pd.Series(['a','b','c','d'], index=[4,5,6,7])\n",
    "d"
   ]
  },
  {
   "cell_type": "code",
   "execution_count": 12,
   "metadata": {},
   "outputs": [
    {
     "data": {
      "text/plain": [
       "'a'"
      ]
     },
     "execution_count": 12,
     "metadata": {},
     "output_type": "execute_result"
    }
   ],
   "source": [
    "# 通过索引的方式来获取值\n",
    "d[4]"
   ]
  },
  {
   "cell_type": "code",
   "execution_count": 13,
   "metadata": {},
   "outputs": [],
   "source": [
    "## 声明Series数据类型的第二种方法"
   ]
  },
  {
   "cell_type": "code",
   "execution_count": 14,
   "metadata": {},
   "outputs": [
    {
     "data": {
      "text/plain": [
       "a    10000\n",
       "b    20000\n",
       "c    30000\n",
       "dtype: int64"
      ]
     },
     "execution_count": 14,
     "metadata": {},
     "output_type": "execute_result"
    }
   ],
   "source": [
    "d2 = {'a':10000,'b':20000,'c':30000}\n",
    "obj = pd.Series(d2)\n",
    "obj"
   ]
  },
  {
   "cell_type": "code",
   "execution_count": 15,
   "metadata": {},
   "outputs": [],
   "source": [
    "## 结论：我们可以把一个字典类型的数据，直接变成Series类型"
   ]
  },
  {
   "cell_type": "code",
   "execution_count": 16,
   "metadata": {},
   "outputs": [
    {
     "data": {
      "text/plain": [
       "a    10000\n",
       "c    30000\n",
       "dtype: int64"
      ]
     },
     "execution_count": 16,
     "metadata": {},
     "output_type": "execute_result"
    }
   ],
   "source": [
    "# 根据自己的需求，取出字典对应的值进行Series数据类型的转换\n",
    "keys=['a','c']\n",
    "obj1 = pd.Series(d2,index=keys)\n",
    "obj1"
   ]
  },
  {
   "cell_type": "code",
   "execution_count": 17,
   "metadata": {},
   "outputs": [],
   "source": [
    "## 缺失值的发现"
   ]
  },
  {
   "cell_type": "code",
   "execution_count": 18,
   "metadata": {},
   "outputs": [
    {
     "data": {
      "text/plain": [
       "a        NaN\n",
       "b    20000.0\n",
       "c    30000.0\n",
       "dtype: float64"
      ]
     },
     "execution_count": 18,
     "metadata": {},
     "output_type": "execute_result"
    }
   ],
   "source": [
    "data = {'a':None,'b':20000,'c':30000}\n",
    "obj = pd.Series(data)\n",
    "obj"
   ]
  },
  {
   "cell_type": "code",
   "execution_count": 19,
   "metadata": {},
   "outputs": [
    {
     "data": {
      "text/plain": [
       "a     True\n",
       "b    False\n",
       "c    False\n",
       "dtype: bool"
      ]
     },
     "execution_count": 19,
     "metadata": {},
     "output_type": "execute_result"
    }
   ],
   "source": [
    "obj.isnull()"
   ]
  },
  {
   "cell_type": "code",
   "execution_count": 20,
   "metadata": {},
   "outputs": [
    {
     "data": {
      "text/plain": [
       "a     True\n",
       "b    False\n",
       "c    False\n",
       "dtype: bool"
      ]
     },
     "execution_count": 20,
     "metadata": {},
     "output_type": "execute_result"
    }
   ],
   "source": [
    "pd.isnull(obj)"
   ]
  },
  {
   "cell_type": "code",
   "execution_count": 21,
   "metadata": {},
   "outputs": [
    {
     "data": {
      "text/plain": [
       "a    False\n",
       "b     True\n",
       "c     True\n",
       "dtype: bool"
      ]
     },
     "execution_count": 21,
     "metadata": {},
     "output_type": "execute_result"
    }
   ],
   "source": [
    "pd.notnull(obj)"
   ]
  },
  {
   "cell_type": "code",
   "execution_count": 22,
   "metadata": {},
   "outputs": [],
   "source": [
    "### 算数运算\n"
   ]
  },
  {
   "cell_type": "code",
   "execution_count": 23,
   "metadata": {},
   "outputs": [
    {
     "data": {
      "text/plain": [
       "a    1.3\n",
       "b    1.5\n",
       "c    2.6\n",
       "d   -3.5\n",
       "dtype: float64"
      ]
     },
     "execution_count": 23,
     "metadata": {},
     "output_type": "execute_result"
    }
   ],
   "source": [
    "d1 = pd.Series([1.3,1.5,2.6,-3.5], index=['a','b','c','d'])\n",
    "d1\n"
   ]
  },
  {
   "cell_type": "code",
   "execution_count": 24,
   "metadata": {},
   "outputs": [
    {
     "data": {
      "text/plain": [
       "a   -1.3\n",
       "b   -1.5\n",
       "c   -2.6\n",
       "d    3.9\n",
       "e    9.8\n",
       "dtype: float64"
      ]
     },
     "execution_count": 24,
     "metadata": {},
     "output_type": "execute_result"
    }
   ],
   "source": [
    "d2 = pd.Series([-1.3,-1.5,-2.6,3.9,9.8], index=['a','b','c','d','e'])\n",
    "d2"
   ]
  },
  {
   "cell_type": "code",
   "execution_count": 25,
   "metadata": {},
   "outputs": [
    {
     "data": {
      "text/plain": [
       "a    0.0\n",
       "b    0.0\n",
       "c    0.0\n",
       "d    0.4\n",
       "e    NaN\n",
       "dtype: float64"
      ]
     },
     "execution_count": 25,
     "metadata": {},
     "output_type": "execute_result"
    }
   ],
   "source": [
    "d1+d2"
   ]
  },
  {
   "cell_type": "code",
   "execution_count": 26,
   "metadata": {},
   "outputs": [],
   "source": [
    "# 两个Series在进行运算的时候，不重叠的地方是空值，重叠的地方进行运算"
   ]
  },
  {
   "cell_type": "code",
   "execution_count": 27,
   "metadata": {},
   "outputs": [],
   "source": [
    "## pandas读取超大文件的时候怎么办"
   ]
  },
  {
   "cell_type": "code",
   "execution_count": 28,
   "metadata": {},
   "outputs": [],
   "source": [
    "## 基本思路是：分块操作。\n",
    "## Python处理文件的时候，读取的是硬盘上的数据，而不需要把数据全部直接加载到内存中\n"
   ]
  },
  {
   "cell_type": "code",
   "execution_count": 29,
   "metadata": {},
   "outputs": [
    {
     "data": {
      "text/html": [
       "<div>\n",
       "<style scoped>\n",
       "    .dataframe tbody tr th:only-of-type {\n",
       "        vertical-align: middle;\n",
       "    }\n",
       "\n",
       "    .dataframe tbody tr th {\n",
       "        vertical-align: top;\n",
       "    }\n",
       "\n",
       "    .dataframe thead th {\n",
       "        text-align: right;\n",
       "    }\n",
       "</style>\n",
       "<table border=\"1\" class=\"dataframe\">\n",
       "  <thead>\n",
       "    <tr style=\"text-align: right;\">\n",
       "      <th></th>\n",
       "      <th>name:ID</th>\n",
       "      <th>sex</th>\n",
       "      <th>age</th>\n",
       "      <th>:LABEL</th>\n",
       "    </tr>\n",
       "  </thead>\n",
       "  <tbody>\n",
       "    <tr>\n",
       "      <th>0</th>\n",
       "      <td>谢永林</td>\n",
       "      <td>男</td>\n",
       "      <td>50</td>\n",
       "      <td>people</td>\n",
       "    </tr>\n",
       "    <tr>\n",
       "      <th>1</th>\n",
       "      <td>胡跃飞</td>\n",
       "      <td>男</td>\n",
       "      <td>56</td>\n",
       "      <td>people</td>\n",
       "    </tr>\n",
       "    <tr>\n",
       "      <th>2</th>\n",
       "      <td>刘勇</td>\n",
       "      <td>男</td>\n",
       "      <td>49</td>\n",
       "      <td>people</td>\n",
       "    </tr>\n",
       "    <tr>\n",
       "      <th>3</th>\n",
       "      <td>朱季成</td>\n",
       "      <td>男</td>\n",
       "      <td>37</td>\n",
       "      <td>people</td>\n",
       "    </tr>\n",
       "    <tr>\n",
       "      <th>4</th>\n",
       "      <td>张丕杰</td>\n",
       "      <td>男</td>\n",
       "      <td>57</td>\n",
       "      <td>people</td>\n",
       "    </tr>\n",
       "  </tbody>\n",
       "</table>\n",
       "</div>"
      ],
      "text/plain": [
       "  name:ID sex  age  :LABEL\n",
       "0     谢永林   男   50  people\n",
       "1     胡跃飞   男   56  people\n",
       "2      刘勇   男   49  people\n",
       "3     朱季成   男   37  people\n",
       "4     张丕杰   男   57  people"
      ]
     },
     "execution_count": 29,
     "metadata": {},
     "output_type": "execute_result"
    }
   ],
   "source": [
    "# 以前的做法\n",
    "data = pd.read_csv('executive.csv')\n",
    "data.head()"
   ]
  },
  {
   "cell_type": "code",
   "execution_count": 30,
   "metadata": {},
   "outputs": [
    {
     "data": {
      "text/html": [
       "<div>\n",
       "<style scoped>\n",
       "    .dataframe tbody tr th:only-of-type {\n",
       "        vertical-align: middle;\n",
       "    }\n",
       "\n",
       "    .dataframe tbody tr th {\n",
       "        vertical-align: top;\n",
       "    }\n",
       "\n",
       "    .dataframe thead th {\n",
       "        text-align: right;\n",
       "    }\n",
       "</style>\n",
       "<table border=\"1\" class=\"dataframe\">\n",
       "  <thead>\n",
       "    <tr style=\"text-align: right;\">\n",
       "      <th></th>\n",
       "      <th>name:ID</th>\n",
       "      <th>sex</th>\n",
       "      <th>age</th>\n",
       "      <th>:LABEL</th>\n",
       "    </tr>\n",
       "  </thead>\n",
       "  <tbody>\n",
       "    <tr>\n",
       "      <th>0</th>\n",
       "      <td>谢永林</td>\n",
       "      <td>男</td>\n",
       "      <td>50</td>\n",
       "      <td>people</td>\n",
       "    </tr>\n",
       "    <tr>\n",
       "      <th>1</th>\n",
       "      <td>胡跃飞</td>\n",
       "      <td>男</td>\n",
       "      <td>56</td>\n",
       "      <td>people</td>\n",
       "    </tr>\n",
       "    <tr>\n",
       "      <th>2</th>\n",
       "      <td>刘勇</td>\n",
       "      <td>男</td>\n",
       "      <td>49</td>\n",
       "      <td>people</td>\n",
       "    </tr>\n",
       "    <tr>\n",
       "      <th>3</th>\n",
       "      <td>朱季成</td>\n",
       "      <td>男</td>\n",
       "      <td>37</td>\n",
       "      <td>people</td>\n",
       "    </tr>\n",
       "    <tr>\n",
       "      <th>4</th>\n",
       "      <td>张丕杰</td>\n",
       "      <td>男</td>\n",
       "      <td>57</td>\n",
       "      <td>people</td>\n",
       "    </tr>\n",
       "  </tbody>\n",
       "</table>\n",
       "</div>"
      ],
      "text/plain": [
       "  name:ID sex  age  :LABEL\n",
       "0     谢永林   男   50  people\n",
       "1     胡跃飞   男   56  people\n",
       "2      刘勇   男   49  people\n",
       "3     朱季成   男   37  people\n",
       "4     张丕杰   男   57  people"
      ]
     },
     "execution_count": 30,
     "metadata": {},
     "output_type": "execute_result"
    }
   ],
   "source": [
    "# nrows 参数的作用就是限制读取多少行\n",
    "data = pd.read_csv('executive.csv', nrows=5)\n",
    "data"
   ]
  },
  {
   "cell_type": "code",
   "execution_count": 31,
   "metadata": {},
   "outputs": [
    {
     "data": {
      "text/plain": [
       "<pandas.io.parsers.TextFileReader at 0x1202f7a58>"
      ]
     },
     "execution_count": 31,
     "metadata": {},
     "output_type": "execute_result"
    }
   ],
   "source": [
    "c = pd.read_csv('executive.csv', chunksize=100)\n",
    "c"
   ]
  },
  {
   "cell_type": "code",
   "execution_count": 32,
   "metadata": {},
   "outputs": [
    {
     "name": "stdout",
     "output_type": "stream",
     "text": [
      "   name:ID sex  age  :LABEL\n",
      "0      谢永林   男   50  people\n",
      "1      胡跃飞   男   56  people\n",
      "2       刘勇   男   49  people\n",
      "3      朱季成   男   37  people\n",
      "4      张丕杰   男   57  people\n",
      "..     ...  ..  ...     ...\n",
      "95      艾萍   女   39  people\n",
      "96      张旸   男   39  people\n",
      "97     于洪涛   男   51  people\n",
      "98      梁旭   男   55  people\n",
      "99     梁健锋   男   53  people\n",
      "\n",
      "[100 rows x 4 columns]\n",
      "    name:ID sex  age  :LABEL\n",
      "100      林萌   男   52  people\n",
      "101     雷菊芳   女   65  people\n",
      "102     邓淑芬   女   54  people\n",
      "103     陈劲松   男   54  people\n",
      "104     黄伟中   男   50  people\n",
      "..      ...  ..  ...     ...\n",
      "195     钱震斌   男   59  people\n",
      "196     杨振华   男   54  people\n",
      "197      周中   男   51  people\n",
      "198      张曦   男   44  people\n",
      "199     符冠华   男   55  people\n",
      "\n",
      "[100 rows x 4 columns]\n",
      "    name:ID sex  age  :LABEL\n",
      "200     黄国宏   男   49  people\n",
      "201      高波   男   44  people\n",
      "202     罗叶兰   女   41  people\n",
      "203      张兵   男   47  people\n",
      "204     王军华   男   57  people\n",
      "..      ...  ..  ...     ...\n",
      "295     梁永岑   男   50  people\n",
      "296     王万强   男   41  people\n",
      "297     刘继彬   男   54  people\n",
      "298     田鲁炜   男   50  people\n",
      "299     王勇峰   男   48  people\n",
      "\n",
      "[100 rows x 4 columns]\n",
      "    name:ID sex  age  :LABEL\n",
      "300     马全胜   男   54  people\n",
      "301     杨学平   男   53  people\n",
      "302     王玉锁   男   54  people\n",
      "303     洪海山   男   57  people\n",
      "304     徐永模   男   62  people\n",
      "..      ...  ..  ...     ...\n",
      "395     柯生灿   男   35  people\n",
      "396     董凤亮   男   46  people\n",
      "397      王臻   女   38  people\n",
      "398     李建勇   男   62  people\n",
      "399     俞敏亮   男   61  people\n",
      "\n",
      "[100 rows x 4 columns]\n",
      "    name:ID sex  age  :LABEL\n",
      "400     徐永模   男   62  people\n",
      "401     李晋昭   男   56  people\n",
      "402      徐千   男   56  people\n",
      "403     邵晓明   男   60  people\n",
      "404     陶云鹏   男   48  people\n",
      "..      ...  ..  ...     ...\n",
      "495     林建华   男   56  people\n",
      "496     章沈强   男   51  people\n",
      "497     钱高法   男   69  people\n",
      "498      高勇   男   51  people\n",
      "499     余亦坤   男   32  people\n",
      "\n",
      "[100 rows x 4 columns]\n",
      "    name:ID sex  age  :LABEL\n",
      "500     吴娜妮   女   44  people\n",
      "501     徐应超   男   36  people\n",
      "502      蓝地   男   42  people\n",
      "503     胡伟民   男   56  people\n",
      "504     钱菊平   男   40  people\n",
      "..      ...  ..  ...     ...\n",
      "595     郑洪霞   女   47  people\n",
      "596     曾文光   男   50  people\n",
      "597     邵明海   男   52  people\n",
      "598     田云飞   男   38  people\n",
      "599     高政权   男   50  people\n",
      "\n",
      "[100 rows x 4 columns]\n",
      "    name:ID sex  age  :LABEL\n",
      "600     倪永培   男   66  people\n",
      "601     许芸霞   女   29  people\n",
      "602     张璞临   男   53  people\n",
      "603     陈德康   男   67  people\n",
      "604     杨卫新   男   50  people\n",
      "..      ...  ..  ...     ...\n",
      "695      曾劲   男   48  people\n",
      "696     陈进行   男   62  people\n",
      "697     姜仁锋   男   54  people\n",
      "698     陈慕华   女   96  people\n",
      "699     刘明东   男   48  people\n",
      "\n",
      "[100 rows x 4 columns]\n",
      "    name:ID sex  age  :LABEL\n",
      "700     李开国   男   56  people\n",
      "701     程方方   男   56  people\n",
      "702     田国立   男   58  people\n",
      "703     张轩松   男   47  people\n",
      "704      王欣   男   57  people\n",
      "..      ...  ..  ...     ...\n",
      "795     余德辉   男   58  people\n",
      "796     钱文龙   男   65  people\n",
      "797     林岱仁   男   60  people\n",
      "798     张兆祥   男   55  people\n",
      "799     赵淑文   女   50  people\n",
      "\n",
      "[100 rows x 4 columns]\n",
      "    name:ID sex  age  :LABEL\n",
      "800     王春民   男   59  people\n",
      "801      左敏   男   57  people\n",
      "802     卢东亮   男   45  people\n",
      "803     缪进义   男   53  people\n",
      "804     贺江川   男   53  people\n",
      "..      ...  ..  ...     ...\n",
      "895     彭富庆   男   52  people\n",
      "896     陈念慈   男   67  people\n",
      "897      王露   男   38  people\n",
      "898     丁尔民   男   53  people\n",
      "899     蔡剑江   男   54  people\n",
      "\n",
      "[100 rows x 4 columns]\n",
      "    name:ID sex  age  :LABEL\n",
      "900     周黎明   男   54  people\n",
      "901      赵刚   男   50  people\n",
      "902     汪立平   男   52  people\n",
      "903      丁吉   男   45  people\n",
      "904     龚曙光   男   59  people\n",
      "..      ...  ..  ...     ...\n",
      "995     李全文   男   54  people\n",
      "996      李刚   男   37  people\n",
      "997     李高生   男   48  people\n",
      "998      黄欣   男   56  people\n",
      "999     李俊喜   男   53  people\n",
      "\n",
      "[100 rows x 4 columns]\n",
      "     name:ID sex  age  :LABEL\n",
      "1000     邵文林   男   50  people\n",
      "1001     夏之云   男   56  people\n",
      "1002     李生希   男   54  people\n",
      "1003     单志鹏   男   52  people\n",
      "1004      罗磊   男   51  people\n",
      "...      ...  ..  ...     ...\n",
      "1095     郭小军   男   35  people\n",
      "1096     尚珊萍   女   54  people\n",
      "1097     程小平   男   56  people\n",
      "1098     袁国华   男   52  people\n",
      "1099     刘悉承   男   56  people\n",
      "\n",
      "[100 rows x 4 columns]\n",
      "     name:ID sex  age  :LABEL\n",
      "1100     丁洁民   男   61  people\n",
      "1101     田玉龙   男   49  people\n",
      "1102      陈璞   男   55  people\n",
      "1103      俞锋   男   46  people\n",
      "1104     林建民   男   57  people\n",
      "...      ...  ..  ...     ...\n",
      "1195     颜骏廷   男   55  people\n",
      "1196      刘实   男   54  people\n",
      "1197     王仲会   男   55  people\n",
      "1198     韩铁林   男   60  people\n",
      "1199      曲奎   男   52  people\n",
      "\n",
      "[100 rows x 4 columns]\n",
      "     name:ID sex  age  :LABEL\n",
      "1200     刘卫国   男   55  people\n",
      "1201      王飚   男   50  people\n",
      "1202     夏文勇   男   46  people\n",
      "1203     朱文臣   男   52  people\n",
      "1204     王启瑞   男   53  people\n",
      "...      ...  ..  ...     ...\n",
      "1295     马建斌   男   43  people\n",
      "1296      何谦   男   51  people\n",
      "1297      刘伟   男   53  people\n",
      "1298     王虎勇   男   49  people\n",
      "1299     王毅坤   男   46  people\n",
      "\n",
      "[100 rows x 4 columns]\n",
      "     name:ID sex  age  :LABEL\n",
      "1300     迟英利   女   53  people\n",
      "1301     陈孟钊   男   41  people\n",
      "1302     王晓光   男   62  people\n",
      "1303      印涛   男   41  people\n",
      "1304      李勇   男   55  people\n",
      "...      ...  ..  ...     ...\n",
      "1395     朱戟敏   男   55  people\n",
      "1396     是飞舟   男   50  people\n",
      "1397     刘体斌   男   55  people\n",
      "1398     张红伟   男   46  people\n",
      "1399     宫平强   男   36  people\n",
      "\n",
      "[100 rows x 4 columns]\n",
      "     name:ID sex  age  :LABEL\n",
      "1400      全凯   男   55  people\n",
      "1401     虞建红   男   52  people\n",
      "1402     赵振元   男   63  people\n",
      "1403     左洪波   男   53  people\n",
      "1404     俞向前   男   51  people\n",
      "...      ...  ..  ...     ...\n",
      "1495      杨帆   女   39  people\n",
      "1496     曹际东   男   46  people\n",
      "1497     孙潇桐   男   36  people\n",
      "1498     张涛涛   男   38  people\n",
      "1499      冯斌   男   46  people\n",
      "\n",
      "[100 rows x 4 columns]\n",
      "     name:ID sex  age  :LABEL\n",
      "1500     石力华   男   62  people\n",
      "1501     杨国平   男   62  people\n",
      "1502     党悦栋   男   38  people\n",
      "1503     刘鹏程   男   51  people\n",
      "1504     雷升逵   男   52  people\n",
      "...      ...  ..  ...     ...\n",
      "1595     刘彦龙   男   53  people\n",
      "1596      王民   男   54  people\n",
      "1597      肖伟   男   59  people\n",
      "1598      张琲   男   46  people\n",
      "1599      薛桓   男   51  people\n",
      "\n",
      "[100 rows x 4 columns]\n",
      "     name:ID sex  age  :LABEL\n",
      "1600      夏宁   男   50  people\n",
      "1601      吴隼   男   51  people\n",
      "1602      张鹏   男   45  people\n",
      "1603     杨光浩   男   46  people\n",
      "1604     黄长庚   男   53  people\n",
      "...      ...  ..  ...     ...\n",
      "1695     张朝宏   男   49  people\n",
      "1696     陈澄清   男   72  people\n",
      "1697     何纪武   男   54  people\n",
      "1698     程晓曦   男   58  people\n",
      "1699      边程   男   54  people\n",
      "\n",
      "[100 rows x 4 columns]\n",
      "     name:ID sex  age  :LABEL\n",
      "1700     吕卫平   男   56  people\n",
      "1701     孙成余   男   47  people\n",
      "1702     孙关富   男   53  people\n",
      "1703     孔炯刚   男   45  people\n",
      "1704     李常春   男   66  people\n",
      "...      ...  ..  ...     ...\n",
      "1795     刘清涛   男   49  people\n",
      "1796     王春生   男   54  people\n",
      "1797     王风斌   男   54  people\n",
      "1798     郑宗强   男   49  people\n",
      "1799      吴琼   男   51  people\n",
      "\n",
      "[100 rows x 4 columns]\n",
      "     name:ID sex  age  :LABEL\n",
      "1800     吴同性   男   54  people\n",
      "1801      邱新   男   44  people\n",
      "1802     刘连红   女   52  people\n",
      "1803      孙启   男   54  people\n",
      "1804     周建平   男   58  people\n",
      "...      ...  ..  ...     ...\n",
      "1895      陈江   男   56  people\n",
      "1896     张兴起   男   47  people\n",
      "1897     张志超   男   55  people\n",
      "1898     李楚源   男   52  people\n",
      "1899     黄建军   男   54  people\n",
      "\n",
      "[100 rows x 4 columns]\n",
      "     name:ID sex  age  :LABEL\n",
      "1900     潘建清   男   55  people\n",
      "1901     李立群   男   58  people\n",
      "1902     夏闻迪   男   52  people\n",
      "1903     李德禄   男   54  people\n",
      "1904     高兵华   男   47  people\n",
      "...      ...  ..  ...     ...\n",
      "1995     尹成国   男   53  people\n",
      "1996     张延红   女   48  people\n",
      "1997     何中辉   男   55  people\n",
      "1998     祝瑞荣   男   51  people\n",
      "1999      康山   男   55  people\n",
      "\n",
      "[100 rows x 4 columns]\n",
      "     name:ID sex  age  :LABEL\n",
      "2000     陈新生   男   48  people\n",
      "2001     熊维明   男   57  people\n",
      "2002     瞿元庆   男   51  people\n",
      "2003     徐卫晖   男   48  people\n",
      "2004     孙飘扬   男   60  people\n",
      "...      ...  ..  ...     ...\n",
      "2095      李涛   男   39  people\n",
      "2096     李俊喜   男   53  people\n",
      "2097     倪伟勇   男   52  people\n",
      "2098      钱栋   男   54  people\n",
      "2099     兰华升   男   47  people\n",
      "\n",
      "[100 rows x 4 columns]\n",
      "     name:ID sex  age  :LABEL\n",
      "2100     陈达彬   男   61  people\n",
      "2101      沈雯   男   60  people\n",
      "2102      高松   男   53  people\n",
      "2103     林俊波   女   47  people\n",
      "2104      郭辉   男   48  people\n",
      "...      ...  ..  ...     ...\n",
      "2195     陶永泽   男   55  people\n",
      "2196     张勇峰   男   58  people\n",
      "2197     何承命   男   58  people\n",
      "2198     张建功   男   50  people\n",
      "2199     周黎旸   男   50  people\n",
      "\n",
      "[100 rows x 4 columns]\n",
      "     name:ID sex  age  :LABEL\n",
      "2200     马志方   男   47  people\n",
      "2201      王军   男   54  people\n",
      "2202     黄云晴   男   54  people\n",
      "2203     李建雄   男   41  people\n",
      "2204     黄文洲   男   53  people\n",
      "...      ...  ..  ...     ...\n",
      "2295      孙峰   男   55  people\n",
      "2296      吴旭   男   56  people\n",
      "2297      谢峰   男   51  people\n",
      "2298     杨登瑞   男   62  people\n",
      "2299     俞培俤   男   59  people\n",
      "\n",
      "[100 rows x 4 columns]\n",
      "     name:ID sex  age  :LABEL\n",
      "2300     冷天晴   男   45  people\n",
      "2301      焦平   男   61  people\n",
      "2302     李国春   男   55  people\n",
      "2303     张美华   男   55  people\n",
      "2304      张新   男   56  people\n",
      "...      ...  ..  ...     ...\n",
      "2395     戴厚良   男   54  people\n",
      "2396      马健   男   54  people\n",
      "2397     付刚峰   男   52  people\n",
      "2398     刘先福   男   54  people\n",
      "2399     吴新华   男   51  people\n",
      "\n",
      "[100 rows x 4 columns]\n",
      "     name:ID sex  age  :LABEL\n",
      "2400     向文波   男   56  people\n",
      "2401     杨明辉   男   54  people\n",
      "2402     谭万庚   男   54  people\n",
      "2403     凌逸群   男   55  people\n",
      "2404     赵建国   男   60  people\n",
      "...      ...  ..  ...     ...\n",
      "2495     殷延超   男   52  people\n",
      "2496     雷凤莲   女   57  people\n",
      "2497      胡浩   男   49  people\n",
      "2498     张吕峥   男   47  people\n",
      "2499     王建新   男   50  people\n",
      "\n",
      "[100 rows x 4 columns]\n",
      "     name:ID sex  age  :LABEL\n",
      "2500     王立群   男   56  people\n",
      "2501     茅庆江   男   54  people\n",
      "2502     陈祥楼   男   49  people\n",
      "2503     张新明   男   56  people\n",
      "2504     姜维利   男   53  people\n",
      "...      ...  ..  ...     ...\n",
      "2595     马焕政   男   53  people\n",
      "2596      吴限   男   50  people\n",
      "2597      邝青   男   54  people\n",
      "2598     张金山   男   55  people\n",
      "2599     贺增林   男   47  people\n",
      "\n",
      "[100 rows x 4 columns]\n",
      "     name:ID sex  age  :LABEL\n",
      "2600      宋勇   男   55  people\n",
      "2601     吴学民   男   55  people\n",
      "2602     邹支农   男   50  people\n",
      "2603     林建伟   男   52  people\n",
      "2604     徐德勇   男   41  people\n",
      "...      ...  ..  ...     ...\n",
      "2695     万国江   男   54  people\n",
      "2696     周红卫   男   51  people\n",
      "2697     罗建文   男   70  people\n",
      "2698     杨震华   男   58  people\n",
      "2699      樊志   男   56  people\n",
      "\n",
      "[100 rows x 4 columns]\n",
      "        name:ID sex  age  :LABEL\n",
      "2700        邵秀英   女   46  people\n",
      "2701        赵云文   男   63  people\n",
      "2702  Hollis Li   男   55  people\n",
      "2703        左海波   男   44  people\n",
      "2704         姚宁   男   50  people\n",
      "...         ...  ..  ...     ...\n",
      "2795         胡霞   女   54  people\n",
      "2796        严学文   男   38  people\n",
      "2797        张昌楠   男   46  people\n",
      "2798        孙伟龙   男   50  people\n",
      "2799         鲍蕾   女   38  people\n",
      "\n",
      "[100 rows x 4 columns]\n",
      "     name:ID sex  age  :LABEL\n",
      "2800      顾群   男   48  people\n",
      "2801     胡东群   男   52  people\n",
      "2802     章文藻   男   61  people\n",
      "2803     朱汉平   男   55  people\n",
      "2804      马焰   男   51  people\n",
      "...      ...  ..  ...     ...\n",
      "2895      史晶   女   31  people\n",
      "2896     施水才   男   52  people\n",
      "2897      黄锋   男   48  people\n",
      "2898     侯若洪   男   53  people\n",
      "2899     朱军红   男   51  people\n",
      "\n",
      "[100 rows x 4 columns]\n",
      "     name:ID sex  age  :LABEL\n",
      "2900      潘恺   男   35  people\n",
      "2901     秘波海   男   64  people\n",
      "2902      刘强   男   49  people\n",
      "2903     黄明松   男   47  people\n",
      "2904     谭颂斌   男   47  people\n",
      "...      ...  ..  ...     ...\n",
      "2995     钟百胜   男   53  people\n",
      "2996     廖定海   男   55  people\n",
      "2997      张林   男   31  people\n",
      "2998     戚大广   男   65  people\n",
      "2999     许文显   男   41  people\n",
      "\n",
      "[100 rows x 4 columns]\n",
      "     name:ID sex  age  :LABEL\n",
      "3000     郭景松   男   56  people\n",
      "3001     王政福   男   52  people\n",
      "3002     付玉霞   女   48  people\n",
      "3003     段乃琦   女   52  people\n",
      "3004    欧阳业恒   男   48  people\n",
      "...      ...  ..  ...     ...\n",
      "3095     钟勇斌   男   51  people\n",
      "3096      江汉   男   47  people\n",
      "3097     张福林   男   53  people\n",
      "3098     唐步云   男   65  people\n",
      "3099     应小勇   男   42  people\n",
      "\n",
      "[100 rows x 4 columns]\n",
      "     name:ID sex  age  :LABEL\n",
      "3100     洪家新   男   63  people\n",
      "3101     宋君恩   男   46  people\n",
      "3102     李跃先   男   55  people\n",
      "3103     蒋仁生   男   65  people\n",
      "3104     王文博   男   35  people\n",
      "...      ...  ..  ...     ...\n",
      "3195     王万春   男   41  people\n",
      "3196     孙新军   男   48  people\n",
      "3197     朱永民   男   46  people\n",
      "3198      陈博   男   50  people\n",
      "3199     徐长进   男   45  people\n",
      "\n",
      "[100 rows x 4 columns]\n",
      "     name:ID sex  age  :LABEL\n",
      "3200     李建林   男   62  people\n",
      "3201     申万秋   男   48  people\n",
      "3202     郭留希   男   55  people\n",
      "3203      冯毅   男   53  people\n",
      "3204     陈添旭   男   56  people\n",
      "...      ...  ..  ...     ...\n",
      "3295      万峰   男   49  people\n",
      "3296     顾庆伟   男   46  people\n",
      "3297     池燕明   男   52  people\n",
      "3298     宋礼华   男   61  people\n",
      "3299      刘楠   男   58  people\n",
      "\n",
      "[100 rows x 4 columns]\n",
      "     name:ID sex  age  :LABEL\n",
      "3300      李力   男   53  people\n",
      "3301     刘建华   男   44  people\n",
      "3302      曾卓   男   38  people\n",
      "3303      陈砚   男   45  people\n",
      "3304     侯文奇   男   48  people\n",
      "...      ...  ..  ...     ...\n",
      "3395      李希   男   50  people\n",
      "3396     张光柳   男   56  people\n",
      "3397     颜泽松   男   48  people\n",
      "3398     李尔龙   男   43  people\n",
      "3399     孙龙龙   男   45  people\n",
      "\n",
      "[100 rows x 4 columns]\n",
      "     name:ID sex  age  :LABEL\n",
      "3400     靳庆军   男   61  people\n",
      "3401      王健   男   54  people\n",
      "3402     王航军   男   52  people\n",
      "3403     陈新民   男   52  people\n",
      "3404     肖俊承   男   52  people\n",
      "...      ...  ..  ...     ...\n",
      "3495      林斌   男   32  people\n",
      "3496     杨志杰   男   50  people\n",
      "3497     蒋光勇   男   47  people\n",
      "3498     邱九辉   男   49  people\n",
      "3499      李刚   男   44  people\n",
      "\n",
      "[100 rows x 4 columns]\n",
      "     name:ID sex  age  :LABEL\n",
      "3500     时沈祥   男   55  people\n",
      "3501     程上楠   男   71  people\n",
      "3502      冯滨   男   54  people\n",
      "3503     任思龙   男   56  people\n",
      "3504     郭建刚   男   52  people\n",
      "...      ...  ..  ...     ...\n",
      "3595     朱烨东   男   50  people\n",
      "3596     谢冠宏   男   56  people\n",
      "3597     李志江   男   61  people\n",
      "3598     王俊民   男   50  people\n",
      "3599      王晖   女   47  people\n",
      "\n",
      "[100 rows x 4 columns]\n"
     ]
    },
    {
     "name": "stdout",
     "output_type": "stream",
     "text": [
      "     name:ID sex  age  :LABEL\n",
      "3600     何亚民   男   61  people\n",
      "3601      杨振   男   56  people\n",
      "3602      沈飒   女   45  people\n",
      "3603      郝军   男   46  people\n",
      "3604     范秀莲   女   55  people\n",
      "...      ...  ..  ...     ...\n",
      "3695     曾芳勤   女   53  people\n",
      "3696     徐国群   男   56  people\n",
      "3697      周晖   男   40  people\n",
      "3698      窦刚   男   38  people\n",
      "3699     孔令军   男   50  people\n",
      "\n",
      "[100 rows x 4 columns]\n",
      "     name:ID sex  age  :LABEL\n",
      "3700     吴相君   男   43  people\n",
      "3701     王一锋   男   34  people\n",
      "3702     谭瑞清   男   52  people\n",
      "3703     陈国狮   男   40  people\n",
      "3704     贾春琳   男   45  people\n",
      "...      ...  ..  ...     ...\n",
      "3795     朱丽霞   女   37  people\n",
      "3796     梁桂添   男   52  people\n",
      "3797      赵刚   男   53  people\n",
      "3798     祝恩福   男   56  people\n",
      "3799     陈俊海   男   54  people\n",
      "\n",
      "[100 rows x 4 columns]\n",
      "     name:ID sex  age  :LABEL\n",
      "3800     孙洁晓   男   51  people\n",
      "3801      胡敏   男   58  people\n",
      "3802     韩方如   女   54  people\n",
      "3803     韩玉辉   男   54  people\n",
      "3804     叶远璋   男   54  people\n",
      "...      ...  ..  ...     ...\n",
      "3895      郑戎   女   65  people\n",
      "3896     仲汉根   男   54  people\n",
      "3897     林平涛   男   69  people\n",
      "3898     贺国英   男   69  people\n",
      "3899     王青运   女   66  people\n",
      "\n",
      "[100 rows x 4 columns]\n",
      "     name:ID sex  age  :LABEL\n",
      "3900     颜永庆   男   53  people\n",
      "3901     张立刚   男   43  people\n",
      "3902      高欣   男   54  people\n",
      "3903     陈晓东   男   52  people\n",
      "3904     许巧婵   女   68  people\n",
      "...      ...  ..  ...     ...\n",
      "3995     朱吉满   男   54  people\n",
      "3996     邱醒亚   男   49  people\n",
      "3997     郁霞秋   女   55  people\n",
      "3998     黄河清   男   56  people\n",
      "3999     柯树泉   男   70  people\n",
      "\n",
      "[100 rows x 4 columns]\n",
      "     name:ID sex  age  :LABEL\n",
      "4000     阮加春   男   55  people\n",
      "4001      齐舰   男   58  people\n",
      "4002     张逸芳   女   55  people\n",
      "4003     王东绪   男   55  people\n",
      "4004      陈岚   女   48  people\n",
      "...      ...  ..  ...     ...\n",
      "4095     邵根伙   男   53  people\n",
      "4096     牛俊高   男   55  people\n",
      "4097     黄南章   男   54  people\n",
      "4098      李湘   男   55  people\n",
      "4099     胡梅晓   男   44  people\n",
      "\n",
      "[100 rows x 4 columns]\n",
      "     name:ID sex  age  :LABEL\n",
      "4100      闻明   男   43  people\n",
      "4101     张德强   男   46  people\n",
      "4102     张立忠   男   44  people\n",
      "4103     袁永刚   男   39  people\n",
      "4104     刘文静   女   47  people\n",
      "...      ...  ..  ...     ...\n",
      "4195     汪培毅   男   65  people\n",
      "4196     何人宝   男   53  people\n",
      "4197      刘望   男   31  people\n",
      "4198      周文   男   53  people\n",
      "4199     唐继勇   男   50  people\n",
      "\n",
      "[100 rows x 4 columns]\n",
      "     name:ID sex  age  :LABEL\n",
      "4200     周方洁   男   54  people\n",
      "4201     曹家富   男   66  people\n",
      "4202      林健   男   52  people\n",
      "4203     周宇斌   男   34  people\n",
      "4204     李郑周   男   45  people\n",
      "...      ...  ..  ...     ...\n",
      "4295     金志国   男   62  people\n",
      "4296     黄飞刚   男   49  people\n",
      "4297     孙彭生   男   60  people\n",
      "4298     张忠革   男   54  people\n",
      "4299     简伟文   男   56  people\n",
      "\n",
      "[100 rows x 4 columns]\n",
      "     name:ID sex  age  :LABEL\n",
      "4300     江昌政   男   64  people\n",
      "4301     余永清   男   51  people\n",
      "4302     董绍杰   男   54  people\n",
      "4303     郭建生   男   48  people\n",
      "4304     黄剑鹏   男   49  people\n",
      "...      ...  ..  ...     ...\n",
      "4395     邵长南   男   56  people\n",
      "4396     钱自强   男   33  people\n",
      "4397     王海波   男   44  people\n",
      "4398      缪振   男   68  people\n",
      "4399     杨槐璋   男   60  people\n",
      "\n",
      "[100 rows x 4 columns]\n",
      "     name:ID sex  age  :LABEL\n",
      "4400      王皓   男   30  people\n",
      "4401     陈泳洪   男   63  people\n",
      "4402     曾胜强   男   55  people\n",
      "4403      张敏   男   57  people\n",
      "4404     陈于冰   男   41  people\n",
      "...      ...  ..  ...     ...\n",
      "4495     武永强   男   53  people\n",
      "4496     袁金钰   男   62  people\n",
      "4497     陈亚妹   女   43  people\n",
      "4498     叶子瑜   男   55  people\n",
      "4499     李建辉   男   46  people\n",
      "\n",
      "[100 rows x 4 columns]\n",
      "     name:ID sex  age  :LABEL\n",
      "4500     王月红   女   49  people\n",
      "4501     程志堂   男   58  people\n",
      "4502     崔从权   男   52  people\n",
      "4503     陈书勤   男   54  people\n",
      "4504     彭干泉   男   46  people\n",
      "...      ...  ..  ...     ...\n",
      "4595     陈学华   男   43  people\n",
      "4596     杨江红   女   47  people\n",
      "4597     谭秋斌   女   55  people\n",
      "4598     叶留金   男   53  people\n",
      "4599      徐磊   男   35  people\n",
      "\n",
      "[100 rows x 4 columns]\n",
      "     name:ID sex  age  :LABEL\n",
      "4600      鹿超   男   47  people\n",
      "4601     陶国定   男   55  people\n",
      "4602      车轼   男   58  people\n",
      "4603     陈爱莲   女   60  people\n",
      "4604     孙日贵   男   63  people\n",
      "...      ...  ..  ...     ...\n",
      "4695     郑栩栩   男   45  people\n",
      "4696     何蕴韶   男   65  people\n",
      "4697     吴翠玲   女   57  people\n",
      "4698     周少雄   男   53  people\n",
      "4699     董增平   男   48  people\n",
      "\n",
      "[100 rows x 4 columns]\n",
      "     name:ID sex  age  :LABEL\n",
      "4700     江南春   男   46  people\n",
      "4701     杨明燕   女   41  people\n",
      "4702     张兆勇   男   53  people\n",
      "4703     张近东   男   55  people\n",
      "4704      李飚   男   47  people\n",
      "...      ...  ..  ...     ...\n",
      "4795      李凌   男   53  people\n",
      "4796     李军风   男   52  people\n",
      "4797     王保玉   男   58  people\n",
      "4798      马刚   男   39  people\n",
      "4799      杨勤   男   52  people\n",
      "\n",
      "[100 rows x 4 columns]\n",
      "     name:ID sex  age  :LABEL\n",
      "4800     周广林   男   56  people\n",
      "4801     李邦良   男   72  people\n",
      "4802     李春光   男   50  people\n",
      "4803     陈锦石   男   56  people\n",
      "4804     周武平   男   52  people\n",
      "...      ...  ..  ...     ...\n",
      "4895     揭小健   男   53  people\n",
      "4896     王义栋   男   50  people\n",
      "4897     丁建国   男   43  people\n",
      "4898     吴岩松   男   47  people\n",
      "4899     代云辉   女   54  people\n",
      "\n",
      "[100 rows x 4 columns]\n",
      "     name:ID sex  age  :LABEL\n",
      "4900     杨华锋   男   44  people\n",
      "4901     韩广荣   男   56  people\n",
      "4902     刘玉新   男   50  people\n",
      "4903      杨林   男   46  people\n",
      "4904      李镇   男   48  people\n",
      "...      ...  ..  ...     ...\n",
      "4995     莫翊斌   男   50  people\n",
      "4996     王永志   男   52  people\n",
      "4997     周世荣   男   49  people\n",
      "4998     吴智勇   男   41  people\n",
      "4999     彭东升   男   56  people\n",
      "\n",
      "[100 rows x 4 columns]\n",
      "     name:ID sex  age  :LABEL\n",
      "5000     蔡卫东   男   49  people\n",
      "5001      贾浚   男   48  people\n",
      "5002     许仕清   男   54  people\n",
      "5003      张湧   男   51  people\n",
      "5004     袁汉源   男   56  people\n",
      "...      ...  ..  ...     ...\n",
      "5095     林阿头   男   54  people\n",
      "5096     王承波   男   54  people\n",
      "5097     谭昌彬   男   45  people\n",
      "5098     于恩沅   男   55  people\n",
      "5099     何春梅   女   49  people\n",
      "\n",
      "[100 rows x 4 columns]\n",
      "     name:ID sex  age  :LABEL\n",
      "5100     祝方猛   男   46  people\n",
      "5101      张姿   女   48  people\n",
      "5102     李堂锁   男   51  people\n",
      "5103     蒋灿明   男   49  people\n",
      "5104     王峥强   男   52  people\n",
      "...      ...  ..  ...     ...\n",
      "5195     季长彬   男   48  people\n",
      "5196     赵立仁   男   46  people\n",
      "5197     邹文彬   男   54  people\n",
      "5198     胡瀚阳   男   35  people\n",
      "5199     吴斯远   男   54  people\n",
      "\n",
      "[100 rows x 4 columns]\n",
      "     name:ID sex  age  :LABEL\n",
      "5200     王俊伟   男   41  people\n",
      "5201     杜善津   男   63  people\n",
      "5202      张雷   男   55  people\n",
      "5203      孙健   男   41  people\n",
      "5204     熊贵成   男   44  people\n",
      "...      ...  ..  ...     ...\n",
      "5295     潘春霓   女   29  people\n",
      "5296      王伟   男   47  people\n",
      "5297      解斌   男   40  people\n",
      "5298      杨宁   男   48  people\n",
      "5299      董悦   男   46  people\n",
      "\n",
      "[100 rows x 4 columns]\n",
      "          name:ID sex  age  :LABEL\n",
      "5300           江波   男   45  people\n",
      "5301          马江河   男   53  people\n",
      "5302          陈来泉   男   59  people\n",
      "5303          米大斌   男   50  people\n",
      "5304          柴永森   男   55  people\n",
      "...           ...  ..  ...     ...\n",
      "5395          朱宜存   男   57  people\n",
      "5396           何勇   男   58  people\n",
      "5397  Peter Fleet   男   51  people\n",
      "5398          陈小松   男   55  people\n",
      "5399           王勇   男   48  people\n",
      "\n",
      "[100 rows x 4 columns]\n",
      "     name:ID sex  age  :LABEL\n",
      "5400      赵辉   男   44  people\n",
      "5401     彭安铮   女   54  people\n",
      "5402     丁青海   男   54  people\n",
      "5403     施大福   男   56  people\n",
      "5404     庄坚毅   男   67  people\n",
      "...      ...  ..  ...     ...\n",
      "5495     尹小峰   男   44  people\n",
      "5496     金东杰   男   45  people\n",
      "5497     周拥泽   男   55  people\n",
      "5498      刘浩   男   46  people\n",
      "5499     陆剑峰   男   45  people\n",
      "\n",
      "[100 rows x 4 columns]\n",
      "     name:ID sex  age  :LABEL\n",
      "5500      余政   男   58  people\n",
      "5501     卓逸群   男   45  people\n",
      "5502     武吉伟   男   47  people\n",
      "5503     姜巨舫   男   56  people\n",
      "5504      赵彪   男   54  people\n",
      "...      ...  ..  ...     ...\n",
      "5595     周宇斌   男   34  people\n",
      "5596     卢志强   男   66  people\n",
      "5597      朱军   男   55  people\n",
      "5598     石正林   男   50  people\n",
      "5599     姚日波   男   50  people\n",
      "\n",
      "[100 rows x 4 columns]\n",
      "     name:ID sex  age  :LABEL\n",
      "5600     朱胜利   男   48  people\n",
      "5601      王宏   男   56  people\n",
      "5602     季圣智   男   32  people\n",
      "5603     陈创新   男   51  people\n",
      "5604     李明海   男   52  people\n",
      "5605     朱梅柱   男   54  people\n",
      "5606     钟宏伟   男   51  people\n",
      "5607     谭华森   男   56  people\n",
      "5608     柏志伟   女   36  people\n",
      "5609     王宇航   男   57  people\n",
      "5610      郝亮   男   47  people\n",
      "5611     李新威   男   53  people\n",
      "5612     董炳根   男   69  people\n",
      "5613     李中秋   男   56  people\n",
      "5614     郑煜曦   男   56  people\n",
      "5615      陈略   男   48  people\n",
      "5616     刘凤喜   男   46  people\n",
      "5617     宿南南   女   34  people\n",
      "5618     李雪燕   女   44  people\n",
      "5619     李洪生   男   55  people\n",
      "5620      丁跃   男   59  people\n",
      "5621     张光柳   男   56  people\n",
      "5622     颜泽松   男   48  people\n",
      "5623     李尔龙   男   43  people\n",
      "5624     靳庆军   男   61  people\n",
      "5625      马骧   男   53  people\n",
      "5626      陈勇   男   48  people\n",
      "5627     厉怒江   男   57  people\n",
      "5628      陈琳   女   46  people\n",
      "5629     刘声向   男   47  people\n",
      "5630      李中   男   54  people\n",
      "5631     陈政立   男   58  people\n",
      "5632     王志全   男   55  people\n",
      "5633      温毅   男   56  people\n",
      "5634     阮克竖   男   52  people\n",
      "5635      王健   男   54  people\n",
      "5636     王航军   男   52  people\n",
      "5637     李德友   男   42  people\n",
      "5638     陈泰泉   男   55  people\n",
      "5639      钟岩   男   43  people\n",
      "5640     赵宏伟   男   50  people\n",
      "5641      丁芃   女   67  people\n",
      "5642     李林琳   女   34  people\n",
      "5643     马钟鸿   男   45  people\n",
      "5644      郁亮   男   53  people\n",
      "5645     朱新宏   男   58  people\n",
      "5646      江津   女   55  people\n",
      "5647     徐文苏   男   41  people\n",
      "5648     刘志平   女   55  people\n",
      "5649     林茂德   男   62  people\n"
     ]
    }
   ],
   "source": [
    "for a in c:\n",
    "    print(a)"
   ]
  },
  {
   "cell_type": "code",
   "execution_count": 33,
   "metadata": {},
   "outputs": [],
   "source": [
    "## NumPy库"
   ]
  },
  {
   "cell_type": "code",
   "execution_count": 34,
   "metadata": {},
   "outputs": [],
   "source": [
    "## numpy其实它就是一个多维的数组(列表)对象\n",
    "## 其实每一个数组都有一个shape方法和一个dtype方法\n",
    "## shape属性表示获取到列表的维度\n",
    "## dtype属性表示获取到列表的类型"
   ]
  },
  {
   "cell_type": "code",
   "execution_count": 35,
   "metadata": {},
   "outputs": [],
   "source": [
    "import numpy as np\n",
    "## 命令行pip install numpy   如果在jupyter当中安装 !pip install numpy\n",
    "## anaconda的环境，就不用安装了"
   ]
  },
  {
   "cell_type": "code",
   "execution_count": 36,
   "metadata": {},
   "outputs": [
    {
     "data": {
      "text/plain": [
       "[1, 2, 3, 4]"
      ]
     },
     "execution_count": 36,
     "metadata": {},
     "output_type": "execute_result"
    }
   ],
   "source": [
    "data = [1,2,3,4]\n",
    "data  # 这是一个数据类型，列表的"
   ]
  },
  {
   "cell_type": "code",
   "execution_count": 37,
   "metadata": {},
   "outputs": [
    {
     "data": {
      "text/plain": [
       "array([1, 2, 3, 4])"
      ]
     },
     "execution_count": 37,
     "metadata": {},
     "output_type": "execute_result"
    }
   ],
   "source": [
    "n = np.array(data)\n",
    "n  # 这是一个对象"
   ]
  },
  {
   "cell_type": "code",
   "execution_count": 38,
   "metadata": {},
   "outputs": [
    {
     "data": {
      "text/plain": [
       "(4,)"
      ]
     },
     "execution_count": 38,
     "metadata": {},
     "output_type": "execute_result"
    }
   ],
   "source": [
    "n.shape"
   ]
  },
  {
   "cell_type": "code",
   "execution_count": 39,
   "metadata": {},
   "outputs": [
    {
     "data": {
      "text/plain": [
       "dtype('int64')"
      ]
     },
     "execution_count": 39,
     "metadata": {},
     "output_type": "execute_result"
    }
   ],
   "source": [
    "n.dtype"
   ]
  },
  {
   "cell_type": "code",
   "execution_count": 40,
   "metadata": {},
   "outputs": [
    {
     "data": {
      "text/plain": [
       "array([1, 2, 3, 4, 1, 2, 3, 4, 1, 2, 3, 4, 1, 2, 3, 4, 1, 2, 3, 4, 1, 2,\n",
       "       3, 4, 1, 2, 3, 4, 1, 2, 3, 4, 1, 2, 3, 4, 1, 2, 3, 4])"
      ]
     },
     "execution_count": 40,
     "metadata": {},
     "output_type": "execute_result"
    }
   ],
   "source": [
    "n2 = np.array(data*10)\n",
    "n2"
   ]
  },
  {
   "cell_type": "code",
   "execution_count": 41,
   "metadata": {},
   "outputs": [
    {
     "data": {
      "text/plain": [
       "(40,)"
      ]
     },
     "execution_count": 41,
     "metadata": {},
     "output_type": "execute_result"
    }
   ],
   "source": [
    "n2.shape"
   ]
  },
  {
   "cell_type": "code",
   "execution_count": 42,
   "metadata": {},
   "outputs": [
    {
     "data": {
      "text/plain": [
       "dtype('int64')"
      ]
     },
     "execution_count": 42,
     "metadata": {},
     "output_type": "execute_result"
    }
   ],
   "source": [
    "n2.dtype"
   ]
  },
  {
   "cell_type": "code",
   "execution_count": 43,
   "metadata": {},
   "outputs": [
    {
     "data": {
      "text/plain": [
       "array([[1, 2, 3, 4],\n",
       "       [1, 2, 3, 4]])"
      ]
     },
     "execution_count": 43,
     "metadata": {},
     "output_type": "execute_result"
    }
   ],
   "source": [
    "## 嵌套序列: 是由一组等长列表组成的列表\n",
    "arr = [[1,2,3,4],[1,2,3,4]]\n",
    "arr2 = np.array(arr)\n",
    "arr2"
   ]
  },
  {
   "cell_type": "code",
   "execution_count": 44,
   "metadata": {},
   "outputs": [
    {
     "data": {
      "text/plain": [
       "(2, 4)"
      ]
     },
     "execution_count": 44,
     "metadata": {},
     "output_type": "execute_result"
    }
   ],
   "source": [
    "arr2.shape"
   ]
  },
  {
   "cell_type": "code",
   "execution_count": 45,
   "metadata": {},
   "outputs": [
    {
     "data": {
      "text/plain": [
       "2"
      ]
     },
     "execution_count": 45,
     "metadata": {},
     "output_type": "execute_result"
    }
   ],
   "source": [
    "arr2.ndim  # ndim代表了维度 "
   ]
  },
  {
   "cell_type": "code",
   "execution_count": 46,
   "metadata": {},
   "outputs": [
    {
     "data": {
      "text/plain": [
       "dtype('int64')"
      ]
     },
     "execution_count": 46,
     "metadata": {},
     "output_type": "execute_result"
    }
   ],
   "source": [
    "arr2.dtype"
   ]
  },
  {
   "cell_type": "code",
   "execution_count": 47,
   "metadata": {},
   "outputs": [],
   "source": [
    "## 类型推断 ： numpy会对数据类型进行一个较为合理的推断"
   ]
  },
  {
   "cell_type": "code",
   "execution_count": 48,
   "metadata": {},
   "outputs": [
    {
     "data": {
      "text/plain": [
       "array([['1', '2', '3', '4'],\n",
       "       ['5', '6', '7', '8']], dtype='<U1')"
      ]
     },
     "execution_count": 48,
     "metadata": {},
     "output_type": "execute_result"
    }
   ],
   "source": [
    "arr = [[\"1\",\"2\",3,4],[5,6,7,8]]\n",
    "arr2 = np.array(arr)\n",
    "arr2"
   ]
  },
  {
   "cell_type": "code",
   "execution_count": 49,
   "metadata": {},
   "outputs": [
    {
     "data": {
      "text/plain": [
       "dtype('<U1')"
      ]
     },
     "execution_count": 49,
     "metadata": {},
     "output_type": "execute_result"
    }
   ],
   "source": [
    "arr2.dtype  # <U1   unicode类型"
   ]
  },
  {
   "cell_type": "code",
   "execution_count": 50,
   "metadata": {},
   "outputs": [
    {
     "data": {
      "text/plain": [
       "array([[1.2, 2. , 3. , 4. ],\n",
       "       [5. , 6. , 7. , 8. ]])"
      ]
     },
     "execution_count": 50,
     "metadata": {},
     "output_type": "execute_result"
    }
   ],
   "source": [
    "arr = [[1.2,2,3,4],[5,6,7,8]]\n",
    "arr2 = np.array(arr)\n",
    "arr2"
   ]
  },
  {
   "cell_type": "code",
   "execution_count": 51,
   "metadata": {},
   "outputs": [
    {
     "data": {
      "text/plain": [
       "dtype('float64')"
      ]
     },
     "execution_count": 51,
     "metadata": {},
     "output_type": "execute_result"
    }
   ],
   "source": [
    "arr2.dtype"
   ]
  },
  {
   "cell_type": "code",
   "execution_count": 52,
   "metadata": {},
   "outputs": [],
   "source": [
    "## numpy还可以进行指定长度数组的创建\n",
    "## 我们利用zeros/ones/empty这几个函数可以帮助我们创建一些默认的array对象\n"
   ]
  },
  {
   "cell_type": "code",
   "execution_count": 53,
   "metadata": {},
   "outputs": [
    {
     "data": {
      "text/plain": [
       "array([0., 0., 0., 0., 0., 0., 0., 0., 0., 0.])"
      ]
     },
     "execution_count": 53,
     "metadata": {},
     "output_type": "execute_result"
    }
   ],
   "source": [
    "np.zeros(10)"
   ]
  },
  {
   "cell_type": "code",
   "execution_count": 54,
   "metadata": {},
   "outputs": [
    {
     "data": {
      "text/plain": [
       "array([[1., 1., 1.],\n",
       "       [1., 1., 1.]])"
      ]
     },
     "execution_count": 54,
     "metadata": {},
     "output_type": "execute_result"
    }
   ],
   "source": [
    "np.ones((2,3))"
   ]
  },
  {
   "cell_type": "code",
   "execution_count": 55,
   "metadata": {},
   "outputs": [
    {
     "data": {
      "text/plain": [
       "array([0.0e+000, 4.9e-324, 1.5e-323])"
      ]
     },
     "execution_count": 55,
     "metadata": {},
     "output_type": "execute_result"
    }
   ],
   "source": [
    "np.empty(3)"
   ]
  },
  {
   "cell_type": "code",
   "execution_count": 56,
   "metadata": {},
   "outputs": [],
   "source": [
    "# arange 是range函数的数组版本"
   ]
  },
  {
   "cell_type": "code",
   "execution_count": 57,
   "metadata": {},
   "outputs": [
    {
     "name": "stdout",
     "output_type": "stream",
     "text": [
      "0\n",
      "1\n",
      "2\n",
      "3\n",
      "4\n",
      "5\n",
      "6\n",
      "7\n",
      "8\n",
      "9\n"
     ]
    }
   ],
   "source": [
    "for i in range(10):\n",
    "    print(i)"
   ]
  },
  {
   "cell_type": "code",
   "execution_count": 58,
   "metadata": {},
   "outputs": [
    {
     "data": {
      "text/plain": [
       "range"
      ]
     },
     "execution_count": 58,
     "metadata": {},
     "output_type": "execute_result"
    }
   ],
   "source": [
    "i = range(10)\n",
    "type(i)"
   ]
  },
  {
   "cell_type": "code",
   "execution_count": 59,
   "metadata": {},
   "outputs": [
    {
     "data": {
      "text/plain": [
       "range(0, 10)"
      ]
     },
     "execution_count": 59,
     "metadata": {},
     "output_type": "execute_result"
    }
   ],
   "source": [
    "i"
   ]
  },
  {
   "cell_type": "code",
   "execution_count": 60,
   "metadata": {},
   "outputs": [
    {
     "data": {
      "text/plain": [
       "array([0, 1, 2, 3, 4, 5, 6, 7, 8, 9])"
      ]
     },
     "execution_count": 60,
     "metadata": {},
     "output_type": "execute_result"
    }
   ],
   "source": [
    "np.arange(10)# arange其实就是一个array range 这个意思。 "
   ]
  },
  {
   "cell_type": "code",
   "execution_count": 61,
   "metadata": {},
   "outputs": [],
   "source": [
    "### 数据类型转换\n",
    "\n",
    "\n"
   ]
  },
  {
   "cell_type": "code",
   "execution_count": 62,
   "metadata": {},
   "outputs": [
    {
     "data": {
      "text/plain": [
       "array([ 1.2,  1.6,  1.8, -2.3, -5.8])"
      ]
     },
     "execution_count": 62,
     "metadata": {},
     "output_type": "execute_result"
    }
   ],
   "source": [
    "arr = np.array([1.2,1.6,1.8,-2.3,-5.8])\n",
    "arr"
   ]
  },
  {
   "cell_type": "code",
   "execution_count": 63,
   "metadata": {},
   "outputs": [
    {
     "data": {
      "text/plain": [
       "array([ 1,  1,  1, -2, -5], dtype=int32)"
      ]
     },
     "execution_count": 63,
     "metadata": {},
     "output_type": "execute_result"
    }
   ],
   "source": [
    "## 类型转换，转换成int\n",
    "arr.astype(np.int32)\n"
   ]
  },
  {
   "cell_type": "code",
   "execution_count": 64,
   "metadata": {},
   "outputs": [
    {
     "data": {
      "text/plain": [
       "dtype('float64')"
      ]
     },
     "execution_count": 64,
     "metadata": {},
     "output_type": "execute_result"
    }
   ],
   "source": [
    "arr.dtype"
   ]
  },
  {
   "cell_type": "code",
   "execution_count": 65,
   "metadata": {},
   "outputs": [],
   "source": [
    "# int32/ int64   \n",
    "# 32位整型占4个字节\n",
    "# 63位整型占8个字节\n"
   ]
  },
  {
   "cell_type": "code",
   "execution_count": 66,
   "metadata": {},
   "outputs": [],
   "source": [
    "# float32 、 float64\n",
    "# 双精度浮点数\n",
    "\n"
   ]
  },
  {
   "cell_type": "markdown",
   "metadata": {},
   "source": [
    "## 矢量化操作到底是什么意思\n",
    "\n",
    "#### 数组通常在不需要编写循环的情况下就可以进行批量运算，这就叫做矢量化操作\n"
   ]
  },
  {
   "cell_type": "code",
   "execution_count": 67,
   "metadata": {},
   "outputs": [
    {
     "data": {
      "text/plain": [
       "array([ 6,  8, 10, 12])"
      ]
     },
     "execution_count": 67,
     "metadata": {},
     "output_type": "execute_result"
    }
   ],
   "source": [
    "arr1 = np.array([1,2,3,4])\n",
    "arr2 = np.array([5,6,7,8])\n",
    "arr1 + arr2"
   ]
  },
  {
   "cell_type": "code",
   "execution_count": 68,
   "metadata": {},
   "outputs": [
    {
     "data": {
      "text/plain": [
       "array([[ 3,  5,  7,  9],\n",
       "       [11, 13, 15, 17]])"
      ]
     },
     "execution_count": 68,
     "metadata": {},
     "output_type": "execute_result"
    }
   ],
   "source": [
    "arr1 = np.array([[1,2,3,4],[5,6,7,8]])\n",
    "arr2 = np.array([[2,3,4,5],[6,7,8,9]])\n",
    "arr1 + arr2"
   ]
  },
  {
   "cell_type": "code",
   "execution_count": 69,
   "metadata": {},
   "outputs": [
    {
     "data": {
      "text/plain": [
       "array([[-1, -1, -1, -1],\n",
       "       [-1, -1, -1, -1]])"
      ]
     },
     "execution_count": 69,
     "metadata": {},
     "output_type": "execute_result"
    }
   ],
   "source": [
    "arr1 - arr2"
   ]
  },
  {
   "cell_type": "code",
   "execution_count": 70,
   "metadata": {},
   "outputs": [
    {
     "data": {
      "text/plain": [
       "array([[ 2,  6, 12, 20],\n",
       "       [30, 42, 56, 72]])"
      ]
     },
     "execution_count": 70,
     "metadata": {},
     "output_type": "execute_result"
    }
   ],
   "source": [
    "arr1 * arr2"
   ]
  },
  {
   "cell_type": "code",
   "execution_count": 71,
   "metadata": {},
   "outputs": [
    {
     "data": {
      "text/plain": [
       "array([[0.5       , 0.66666667, 0.75      , 0.8       ],\n",
       "       [0.83333333, 0.85714286, 0.875     , 0.88888889]])"
      ]
     },
     "execution_count": 71,
     "metadata": {},
     "output_type": "execute_result"
    }
   ],
   "source": [
    "arr1 / arr2"
   ]
  },
  {
   "cell_type": "code",
   "execution_count": 72,
   "metadata": {},
   "outputs": [
    {
     "data": {
      "text/plain": [
       "array([[ 5, 10, 15, 20],\n",
       "       [25, 30, 35, 40]])"
      ]
     },
     "execution_count": 72,
     "metadata": {},
     "output_type": "execute_result"
    }
   ],
   "source": [
    "5 * arr1"
   ]
  },
  {
   "cell_type": "code",
   "execution_count": 73,
   "metadata": {},
   "outputs": [],
   "source": [
    "### 基本的索引和切片操作\n",
    "\n"
   ]
  },
  {
   "cell_type": "code",
   "execution_count": 74,
   "metadata": {},
   "outputs": [
    {
     "data": {
      "text/plain": [
       "array([0, 1, 2, 3, 4, 5, 6, 7, 8, 9])"
      ]
     },
     "execution_count": 74,
     "metadata": {},
     "output_type": "execute_result"
    }
   ],
   "source": [
    "## 现在我们有一组列表(数组)\n",
    "arr = np.arange(10)\n",
    "arr"
   ]
  },
  {
   "cell_type": "code",
   "execution_count": 75,
   "metadata": {},
   "outputs": [
    {
     "data": {
      "text/plain": [
       "3"
      ]
     },
     "execution_count": 75,
     "metadata": {},
     "output_type": "execute_result"
    }
   ],
   "source": [
    "arr[3]"
   ]
  },
  {
   "cell_type": "code",
   "execution_count": 76,
   "metadata": {},
   "outputs": [
    {
     "data": {
      "text/plain": [
       "array([4, 5, 6, 7, 8, 9])"
      ]
     },
     "execution_count": 76,
     "metadata": {},
     "output_type": "execute_result"
    }
   ],
   "source": [
    "## 现在我们要访问4及以后的元素\n",
    "arr[4:]"
   ]
  },
  {
   "cell_type": "code",
   "execution_count": 77,
   "metadata": {},
   "outputs": [],
   "source": [
    "arr[0:4] = 9 # 将一个标量的值赋值给一个切片时，该值会自动的传播到整个区域，并且直接影响原数据的值"
   ]
  },
  {
   "cell_type": "code",
   "execution_count": 78,
   "metadata": {},
   "outputs": [
    {
     "data": {
      "text/plain": [
       "array([9, 9, 9, 9, 4, 5, 6, 7, 8, 9])"
      ]
     },
     "execution_count": 78,
     "metadata": {},
     "output_type": "execute_result"
    }
   ],
   "source": [
    "arr"
   ]
  },
  {
   "cell_type": "code",
   "execution_count": 79,
   "metadata": {},
   "outputs": [],
   "source": [
    "## 我们如果不想影响原数据操作的话怎么办？\n"
   ]
  },
  {
   "cell_type": "code",
   "execution_count": 80,
   "metadata": {},
   "outputs": [
    {
     "data": {
      "text/plain": [
       "array([9, 9, 9, 9, 4, 5, 6, 7, 8, 9])"
      ]
     },
     "execution_count": 80,
     "metadata": {},
     "output_type": "execute_result"
    }
   ],
   "source": [
    "a = arr.copy()\n",
    "a"
   ]
  },
  {
   "cell_type": "code",
   "execution_count": 81,
   "metadata": {},
   "outputs": [],
   "source": [
    "## 如果我们有一个二维的数组该怎么访问呢？\n",
    "\n"
   ]
  },
  {
   "cell_type": "code",
   "execution_count": 82,
   "metadata": {},
   "outputs": [
    {
     "data": {
      "text/plain": [
       "array([[1, 2, 3, 4],\n",
       "       [5, 6, 7, 8]])"
      ]
     },
     "execution_count": 82,
     "metadata": {},
     "output_type": "execute_result"
    }
   ],
   "source": [
    "arr1 = np.array([[1,2,3,4],[5,6,7,8]])\n",
    "arr1"
   ]
  },
  {
   "cell_type": "code",
   "execution_count": 83,
   "metadata": {},
   "outputs": [
    {
     "data": {
      "text/plain": [
       "array([1, 2, 3, 4])"
      ]
     },
     "execution_count": 83,
     "metadata": {},
     "output_type": "execute_result"
    }
   ],
   "source": [
    "arr1[0]"
   ]
  },
  {
   "cell_type": "code",
   "execution_count": 84,
   "metadata": {},
   "outputs": [
    {
     "data": {
      "text/plain": [
       "2"
      ]
     },
     "execution_count": 84,
     "metadata": {},
     "output_type": "execute_result"
    }
   ],
   "source": [
    "arr1[0][1]"
   ]
  },
  {
   "cell_type": "code",
   "execution_count": 85,
   "metadata": {},
   "outputs": [
    {
     "data": {
      "text/plain": [
       "3"
      ]
     },
     "execution_count": 85,
     "metadata": {},
     "output_type": "execute_result"
    }
   ],
   "source": [
    "arr1[0,2]"
   ]
  },
  {
   "cell_type": "code",
   "execution_count": 86,
   "metadata": {},
   "outputs": [],
   "source": [
    "### 比较运算"
   ]
  },
  {
   "cell_type": "code",
   "execution_count": 87,
   "metadata": {},
   "outputs": [],
   "source": [
    "#在以前我们学习多条件运算的时候，我们使用的是and 和or\n"
   ]
  },
  {
   "cell_type": "code",
   "execution_count": 88,
   "metadata": {},
   "outputs": [
    {
     "data": {
      "text/plain": [
       "array(['HanMeiMei', 'LiLei', 'Tony', 'Jack'], dtype='<U9')"
      ]
     },
     "execution_count": 88,
     "metadata": {},
     "output_type": "execute_result"
    }
   ],
   "source": [
    "names = np.array(['HanMeiMei','LiLei','Tony','Jack'])\n",
    "names"
   ]
  },
  {
   "cell_type": "code",
   "execution_count": 89,
   "metadata": {},
   "outputs": [
    {
     "data": {
      "text/plain": [
       "array([ True, False, False, False])"
      ]
     },
     "execution_count": 89,
     "metadata": {},
     "output_type": "execute_result"
    }
   ],
   "source": [
    "names == 'HanMeiMei'"
   ]
  },
  {
   "cell_type": "code",
   "execution_count": 90,
   "metadata": {},
   "outputs": [
    {
     "data": {
      "text/plain": [
       "array([False, False, False, False])"
      ]
     },
     "execution_count": 90,
     "metadata": {},
     "output_type": "execute_result"
    }
   ],
   "source": [
    "(names == 'HanMeiMei') & (names == 'Tony')"
   ]
  },
  {
   "cell_type": "code",
   "execution_count": 91,
   "metadata": {},
   "outputs": [
    {
     "data": {
      "text/plain": [
       "array([ True, False,  True, False])"
      ]
     },
     "execution_count": 91,
     "metadata": {},
     "output_type": "execute_result"
    }
   ],
   "source": [
    "(names == 'HanMeiMei') | (names == 'Tony')"
   ]
  },
  {
   "cell_type": "code",
   "execution_count": 92,
   "metadata": {},
   "outputs": [],
   "source": [
    "## 这一点需要记住，我们以后进行多条件筛选的时候会用到\n",
    "## 我们使用numpy对象进行多条件的比较运算的时候，我们不能够使用and 和 or\n",
    "## 必须使用 & 和 | 他们分别代表着and  和or"
   ]
  },
  {
   "cell_type": "code",
   "execution_count": 93,
   "metadata": {},
   "outputs": [],
   "source": [
    "## 花式索引(fancy indexing) ，它是一个NumPy中的术语，它指的是利用整数数组来进行索引的方式"
   ]
  },
  {
   "cell_type": "code",
   "execution_count": 94,
   "metadata": {},
   "outputs": [
    {
     "data": {
      "text/plain": [
       "array([[ 0.00000000e+000,  1.49166825e-154,  8.39911598e-323,\n",
       "         0.00000000e+000],\n",
       "       [ 1.69376082e+190,  5.02034658e+175,  6.09993028e+170,\n",
       "         2.90192626e-057],\n",
       "       [ 4.08386492e-033,  2.38545463e+180,  1.47763641e+248,\n",
       "         1.16096346e-028],\n",
       "       [ 7.69165785e+218,  1.35617292e+248,  8.20984546e-067,\n",
       "         3.64055199e+175],\n",
       "       [ 5.39851236e-066,  5.24551044e+174,  4.30696657e-096,\n",
       "         6.32299154e+233],\n",
       "       [ 6.48224638e+170,  5.22411352e+257,  5.74020278e+180,\n",
       "         8.37174974e-144],\n",
       "       [ 1.41529402e+161,  6.00736899e-067,  3.67137505e+097,\n",
       "         9.18440293e-072],\n",
       "       [ 3.92682017e+126, -1.71427944e-141,  1.49166824e-154,\n",
       "        -2.68156177e+154]])"
      ]
     },
     "execution_count": 94,
     "metadata": {},
     "output_type": "execute_result"
    }
   ],
   "source": [
    "arr = np.empty((8,4)) # 声明一个8*4的空的列表\n",
    "arr"
   ]
  },
  {
   "cell_type": "code",
   "execution_count": 95,
   "metadata": {},
   "outputs": [
    {
     "data": {
      "text/plain": [
       "array([[0., 0., 0., 0.],\n",
       "       [1., 1., 1., 1.],\n",
       "       [2., 2., 2., 2.],\n",
       "       [3., 3., 3., 3.],\n",
       "       [4., 4., 4., 4.],\n",
       "       [5., 5., 5., 5.],\n",
       "       [6., 6., 6., 6.],\n",
       "       [7., 7., 7., 7.]])"
      ]
     },
     "execution_count": 95,
     "metadata": {},
     "output_type": "execute_result"
    }
   ],
   "source": [
    "# 赋值\n",
    "for i in range(8):\n",
    "    arr[i] = i\n",
    "arr"
   ]
  },
  {
   "cell_type": "code",
   "execution_count": 96,
   "metadata": {},
   "outputs": [
    {
     "data": {
      "text/plain": [
       "array([[4., 4., 4., 4.],\n",
       "       [3., 3., 3., 3.],\n",
       "       [0., 0., 0., 0.],\n",
       "       [6., 6., 6., 6.]])"
      ]
     },
     "execution_count": 96,
     "metadata": {},
     "output_type": "execute_result"
    }
   ],
   "source": [
    "arr[[4,3,0,6]]"
   ]
  },
  {
   "cell_type": "code",
   "execution_count": 97,
   "metadata": {},
   "outputs": [],
   "source": [
    "## 以一个特定的顺序来选取行中的子集，我们传入一个用于指定顺序的整数列表，或数组\n",
    "# 这里也可以使用负数来进行索引"
   ]
  },
  {
   "cell_type": "code",
   "execution_count": 98,
   "metadata": {},
   "outputs": [
    {
     "data": {
      "text/plain": [
       "array([[ 0,  1,  2,  3],\n",
       "       [ 4,  5,  6,  7],\n",
       "       [ 8,  9, 10, 11],\n",
       "       [12, 13, 14, 15],\n",
       "       [16, 17, 18, 19],\n",
       "       [20, 21, 22, 23],\n",
       "       [24, 25, 26, 27],\n",
       "       [28, 29, 30, 31]])"
      ]
     },
     "execution_count": 98,
     "metadata": {},
     "output_type": "execute_result"
    }
   ],
   "source": [
    "arr = np.arange(32).reshape((8,4)) ## reshape就是把这个32个元素的列表变成了8*4的列表\n",
    "arr"
   ]
  },
  {
   "cell_type": "code",
   "execution_count": 99,
   "metadata": {},
   "outputs": [
    {
     "data": {
      "text/plain": [
       "array([[ 4,  5,  6,  7],\n",
       "       [20, 21, 22, 23],\n",
       "       [28, 29, 30, 31],\n",
       "       [ 8,  9, 10, 11]])"
      ]
     },
     "execution_count": 99,
     "metadata": {},
     "output_type": "execute_result"
    }
   ],
   "source": [
    "arr[[1,5,7,2]]"
   ]
  },
  {
   "cell_type": "code",
   "execution_count": 100,
   "metadata": {},
   "outputs": [
    {
     "data": {
      "text/plain": [
       "array([ 4, 23, 29, 10])"
      ]
     },
     "execution_count": 100,
     "metadata": {},
     "output_type": "execute_result"
    }
   ],
   "source": [
    "arr[[1,5,7,2],[0,3,1,2]]"
   ]
  },
  {
   "cell_type": "code",
   "execution_count": 101,
   "metadata": {},
   "outputs": [
    {
     "data": {
      "text/plain": [
       "array([[ 4,  7,  5],\n",
       "       [20, 23, 21],\n",
       "       [28, 31, 29],\n",
       "       [ 8, 11,  9]])"
      ]
     },
     "execution_count": 101,
     "metadata": {},
     "output_type": "execute_result"
    }
   ],
   "source": [
    "##行 和 列同时进行花式索引操作\n",
    "\n",
    "arr[[1,5,7,2]][:,[0,3,1]]"
   ]
  },
  {
   "cell_type": "code",
   "execution_count": 102,
   "metadata": {},
   "outputs": [],
   "source": [
    "## 转置操作"
   ]
  },
  {
   "cell_type": "code",
   "execution_count": 103,
   "metadata": {},
   "outputs": [
    {
     "data": {
      "text/plain": [
       "array([[ 0,  1,  2,  3,  4],\n",
       "       [ 5,  6,  7,  8,  9],\n",
       "       [10, 11, 12, 13, 14]])"
      ]
     },
     "execution_count": 103,
     "metadata": {},
     "output_type": "execute_result"
    }
   ],
   "source": [
    "arr = np.arange(15).reshape((3,5))\n",
    "arr"
   ]
  },
  {
   "cell_type": "code",
   "execution_count": 104,
   "metadata": {},
   "outputs": [
    {
     "data": {
      "text/plain": [
       "array([[ 0,  5, 10],\n",
       "       [ 1,  6, 11],\n",
       "       [ 2,  7, 12],\n",
       "       [ 3,  8, 13],\n",
       "       [ 4,  9, 14]])"
      ]
     },
     "execution_count": 104,
     "metadata": {},
     "output_type": "execute_result"
    }
   ],
   "source": [
    "arr.transpose()"
   ]
  },
  {
   "cell_type": "code",
   "execution_count": 105,
   "metadata": {},
   "outputs": [],
   "source": [
    "a = arr.T"
   ]
  },
  {
   "cell_type": "code",
   "execution_count": 106,
   "metadata": {},
   "outputs": [
    {
     "data": {
      "text/plain": [
       "array([[ 0,  5, 10],\n",
       "       [ 1,  6, 11],\n",
       "       [ 2,  7, 12],\n",
       "       [ 3,  8, 13],\n",
       "       [ 4,  9, 14]])"
      ]
     },
     "execution_count": 106,
     "metadata": {},
     "output_type": "execute_result"
    }
   ],
   "source": [
    "a"
   ]
  },
  {
   "cell_type": "code",
   "execution_count": 107,
   "metadata": {},
   "outputs": [],
   "source": [
    "## numpy的降维操作"
   ]
  },
  {
   "cell_type": "code",
   "execution_count": 108,
   "metadata": {},
   "outputs": [
    {
     "data": {
      "text/plain": [
       "array([[   1,  100, 1000],\n",
       "       [   2,  200, 2000],\n",
       "       [   3,  300, 3000]])"
      ]
     },
     "execution_count": 108,
     "metadata": {},
     "output_type": "execute_result"
    }
   ],
   "source": [
    "arr = np.array([[1,100,1000],[2,200,2000],[3,300,3000]])\n",
    "arr"
   ]
  },
  {
   "cell_type": "code",
   "execution_count": 109,
   "metadata": {},
   "outputs": [
    {
     "data": {
      "text/plain": [
       "array([   1,  100, 1000,    2,  200, 2000,    3,  300, 3000])"
      ]
     },
     "execution_count": 109,
     "metadata": {},
     "output_type": "execute_result"
    }
   ],
   "source": [
    "## 默认排序的降维\n",
    "arr.ravel()"
   ]
  },
  {
   "cell_type": "code",
   "execution_count": 110,
   "metadata": {},
   "outputs": [
    {
     "data": {
      "text/plain": [
       "array([   1,  100, 1000,    2,  200, 2000,    3,  300, 3000])"
      ]
     },
     "execution_count": 110,
     "metadata": {},
     "output_type": "execute_result"
    }
   ],
   "source": [
    "arr.reshape(-1)"
   ]
  },
  {
   "cell_type": "code",
   "execution_count": 111,
   "metadata": {},
   "outputs": [
    {
     "data": {
      "text/plain": [
       "array([   1,  100, 1000,    2,  200, 2000,    3,  300, 3000])"
      ]
     },
     "execution_count": 111,
     "metadata": {},
     "output_type": "execute_result"
    }
   ],
   "source": [
    "arr.flatten()"
   ]
  },
  {
   "cell_type": "code",
   "execution_count": 112,
   "metadata": {},
   "outputs": [],
   "source": [
    "## 改变排序模式的降维操作\n",
    "\n"
   ]
  },
  {
   "cell_type": "code",
   "execution_count": 113,
   "metadata": {},
   "outputs": [
    {
     "data": {
      "text/plain": [
       "array([   1,    2,    3,  100,  200,  300, 1000, 2000, 3000])"
      ]
     },
     "execution_count": 113,
     "metadata": {},
     "output_type": "execute_result"
    }
   ],
   "source": [
    "arr.ravel(order=\"F\")"
   ]
  },
  {
   "cell_type": "code",
   "execution_count": 114,
   "metadata": {},
   "outputs": [
    {
     "data": {
      "text/plain": [
       "array([   1,    2,    3,  100,  200,  300, 1000, 2000, 3000])"
      ]
     },
     "execution_count": 114,
     "metadata": {},
     "output_type": "execute_result"
    }
   ],
   "source": [
    "arr.reshape(-1,order=\"F\")"
   ]
  },
  {
   "cell_type": "code",
   "execution_count": 115,
   "metadata": {},
   "outputs": [
    {
     "data": {
      "text/plain": [
       "array([   1,    2,    3,  100,  200,  300, 1000, 2000, 3000])"
      ]
     },
     "execution_count": 115,
     "metadata": {},
     "output_type": "execute_result"
    }
   ],
   "source": [
    "arr.flatten(order=\"F\")"
   ]
  },
  {
   "cell_type": "code",
   "execution_count": 116,
   "metadata": {},
   "outputs": [],
   "source": [
    "## 降维后的值的修改"
   ]
  },
  {
   "cell_type": "code",
   "execution_count": 117,
   "metadata": {},
   "outputs": [
    {
     "data": {
      "text/plain": [
       "array([[   1,  100, 1000],\n",
       "       [   2,  200, 2000],\n",
       "       [   3,  300, 3000]])"
      ]
     },
     "execution_count": 117,
     "metadata": {},
     "output_type": "execute_result"
    }
   ],
   "source": [
    "arr = np.array([[1,100,1000],[2,200,2000],[3,300,3000]])\n",
    "arr"
   ]
  },
  {
   "cell_type": "code",
   "execution_count": 118,
   "metadata": {},
   "outputs": [
    {
     "data": {
      "text/plain": [
       "array([   1,  100, 1000,    2,  200, 2000,    3,  300, 3000])"
      ]
     },
     "execution_count": 118,
     "metadata": {},
     "output_type": "execute_result"
    }
   ],
   "source": [
    "arr.flatten()"
   ]
  },
  {
   "cell_type": "code",
   "execution_count": 119,
   "metadata": {},
   "outputs": [],
   "source": [
    "arr.flatten()[0] = 200"
   ]
  },
  {
   "cell_type": "code",
   "execution_count": 120,
   "metadata": {},
   "outputs": [
    {
     "data": {
      "text/plain": [
       "array([[   1,  100, 1000],\n",
       "       [   2,  200, 2000],\n",
       "       [   3,  300, 3000]])"
      ]
     },
     "execution_count": 120,
     "metadata": {},
     "output_type": "execute_result"
    }
   ],
   "source": [
    "arr"
   ]
  },
  {
   "cell_type": "code",
   "execution_count": 121,
   "metadata": {},
   "outputs": [],
   "source": [
    "## flatten方法降维之后对值修改不改变原数据"
   ]
  },
  {
   "cell_type": "code",
   "execution_count": 122,
   "metadata": {},
   "outputs": [
    {
     "data": {
      "text/plain": [
       "array([   1,  100, 1000,    2,  200, 2000,    3,  300, 3000])"
      ]
     },
     "execution_count": 122,
     "metadata": {},
     "output_type": "execute_result"
    }
   ],
   "source": [
    "arr.ravel()"
   ]
  },
  {
   "cell_type": "code",
   "execution_count": 123,
   "metadata": {},
   "outputs": [],
   "source": [
    "arr.ravel()[1] = 1000"
   ]
  },
  {
   "cell_type": "code",
   "execution_count": 124,
   "metadata": {},
   "outputs": [
    {
     "data": {
      "text/plain": [
       "array([[   1, 1000, 1000],\n",
       "       [   2,  200, 2000],\n",
       "       [   3,  300, 3000]])"
      ]
     },
     "execution_count": 124,
     "metadata": {},
     "output_type": "execute_result"
    }
   ],
   "source": [
    "arr"
   ]
  },
  {
   "cell_type": "code",
   "execution_count": 125,
   "metadata": {},
   "outputs": [],
   "source": [
    "# ravel方法降维之后进行值的修改会改变原来的数据"
   ]
  },
  {
   "cell_type": "code",
   "execution_count": 126,
   "metadata": {},
   "outputs": [
    {
     "data": {
      "text/plain": [
       "array([   1, 1000, 1000,    2,  200, 2000,    3,  300, 3000])"
      ]
     },
     "execution_count": 126,
     "metadata": {},
     "output_type": "execute_result"
    }
   ],
   "source": [
    "arr.reshape(-1)"
   ]
  },
  {
   "cell_type": "code",
   "execution_count": 127,
   "metadata": {},
   "outputs": [],
   "source": [
    "arr.reshape(-1)[2]=3000"
   ]
  },
  {
   "cell_type": "code",
   "execution_count": 128,
   "metadata": {},
   "outputs": [
    {
     "data": {
      "text/plain": [
       "array([[   1, 1000, 3000],\n",
       "       [   2,  200, 2000],\n",
       "       [   3,  300, 3000]])"
      ]
     },
     "execution_count": 128,
     "metadata": {},
     "output_type": "execute_result"
    }
   ],
   "source": [
    "arr"
   ]
  },
  {
   "cell_type": "code",
   "execution_count": 129,
   "metadata": {},
   "outputs": [],
   "source": [
    "## reshape本质还是形状上的改变，同时降维后改变值也修改原数据"
   ]
  },
  {
   "cell_type": "code",
   "execution_count": 130,
   "metadata": {},
   "outputs": [],
   "source": [
    "## numpy的堆叠操作\n",
    "## 其实就是数据的合并"
   ]
  },
  {
   "cell_type": "code",
   "execution_count": 131,
   "metadata": {},
   "outputs": [
    {
     "data": {
      "text/plain": [
       "array([[   1,  100, 1000],\n",
       "       [   2,  200, 2000],\n",
       "       [   3,  300, 3000]])"
      ]
     },
     "execution_count": 131,
     "metadata": {},
     "output_type": "execute_result"
    }
   ],
   "source": [
    "arr1 = np.array([[1,100,1000],[2,200,2000],[3,300,3000]])\n",
    "arr1"
   ]
  },
  {
   "cell_type": "code",
   "execution_count": 132,
   "metadata": {},
   "outputs": [
    {
     "data": {
      "text/plain": [
       "array([1, 2, 3])"
      ]
     },
     "execution_count": 132,
     "metadata": {},
     "output_type": "execute_result"
    }
   ],
   "source": [
    "arr2 = np.array([1,2,3])\n",
    "arr2"
   ]
  },
  {
   "cell_type": "code",
   "execution_count": 133,
   "metadata": {},
   "outputs": [
    {
     "data": {
      "text/plain": [
       "array([[   1,  100, 1000],\n",
       "       [   2,  200, 2000],\n",
       "       [   3,  300, 3000],\n",
       "       [   1,    2,    3]])"
      ]
     },
     "execution_count": 133,
     "metadata": {},
     "output_type": "execute_result"
    }
   ],
   "source": [
    "## 纵向堆叠\n",
    "np.vstack([arr1,arr2])\n"
   ]
  },
  {
   "cell_type": "code",
   "execution_count": 134,
   "metadata": {},
   "outputs": [
    {
     "data": {
      "text/plain": [
       "array([[   1,  100, 1000],\n",
       "       [   2,  200, 2000],\n",
       "       [   3,  300, 3000],\n",
       "       [   1,    2,    3]])"
      ]
     },
     "execution_count": 134,
     "metadata": {},
     "output_type": "execute_result"
    }
   ],
   "source": [
    "np.row_stack([arr1,arr2])"
   ]
  },
  {
   "cell_type": "code",
   "execution_count": 135,
   "metadata": {},
   "outputs": [
    {
     "data": {
      "text/plain": [
       "array([[5],\n",
       "       [6],\n",
       "       [7]])"
      ]
     },
     "execution_count": 135,
     "metadata": {},
     "output_type": "execute_result"
    }
   ],
   "source": [
    "arr3 = np.array([[5],[6],[7]])\n",
    "arr3"
   ]
  },
  {
   "cell_type": "code",
   "execution_count": 136,
   "metadata": {},
   "outputs": [
    {
     "data": {
      "text/plain": [
       "array([[   1,  100, 1000,    5],\n",
       "       [   2,  200, 2000,    6],\n",
       "       [   3,  300, 3000,    7]])"
      ]
     },
     "execution_count": 136,
     "metadata": {},
     "output_type": "execute_result"
    }
   ],
   "source": [
    "## 横线堆叠\n",
    "np.hstack([arr1,arr3])"
   ]
  },
  {
   "cell_type": "code",
   "execution_count": 137,
   "metadata": {},
   "outputs": [
    {
     "data": {
      "text/plain": [
       "array([[   1,  100, 1000,    5],\n",
       "       [   2,  200, 2000,    6],\n",
       "       [   3,  300, 3000,    7]])"
      ]
     },
     "execution_count": 137,
     "metadata": {},
     "output_type": "execute_result"
    }
   ],
   "source": [
    "np.column_stack([arr1,arr3])"
   ]
  },
  {
   "cell_type": "markdown",
   "metadata": {},
   "source": []
  },
  {
   "cell_type": "markdown",
   "metadata": {},
   "source": [
    "## 广播运算"
   ]
  },
  {
   "cell_type": "code",
   "execution_count": 138,
   "metadata": {},
   "outputs": [
    {
     "data": {
      "text/plain": [
       "array([[ 0,  1,  2,  3],\n",
       "       [ 4,  5,  6,  7],\n",
       "       [ 8,  9, 10, 11]])"
      ]
     },
     "execution_count": 138,
     "metadata": {},
     "output_type": "execute_result"
    }
   ],
   "source": [
    "import numpy as np\n",
    "\n",
    "## 利用随机数生成两个维度一致的数组\n",
    "\n",
    "arr1 = np.arange(12).reshape(3,4)\n",
    "arr1"
   ]
  },
  {
   "cell_type": "code",
   "execution_count": 139,
   "metadata": {},
   "outputs": [
    {
     "data": {
      "text/plain": [
       "array([[101, 102, 103, 104],\n",
       "       [105, 106, 107, 108],\n",
       "       [109, 110, 111, 112]])"
      ]
     },
     "execution_count": 139,
     "metadata": {},
     "output_type": "execute_result"
    }
   ],
   "source": [
    "arr2 = np.arange(101,113).reshape(3,4)\n",
    "arr2"
   ]
  },
  {
   "cell_type": "code",
   "execution_count": 140,
   "metadata": {},
   "outputs": [
    {
     "data": {
      "text/plain": [
       "array([[101, 103, 105, 107],\n",
       "       [109, 111, 113, 115],\n",
       "       [117, 119, 121, 123]])"
      ]
     },
     "execution_count": 140,
     "metadata": {},
     "output_type": "execute_result"
    }
   ],
   "source": [
    "## 这并不是广播运算，因为其维度一致\n",
    "arr1 + arr2"
   ]
  },
  {
   "attachments": {
    "image.png": {
     "image/png": "[encoded data removed]"
    }
   },
   "cell_type": "markdown",
   "metadata": {},
   "source": [
    "![image.png](attachment:image.png)"
   ]
  },
  {
   "cell_type": "code",
   "execution_count": 141,
   "metadata": {},
   "outputs": [
    {
     "data": {
      "text/plain": [
       "array([[[ 0,  1,  2],\n",
       "        [ 3,  4,  5],\n",
       "        [ 6,  7,  8],\n",
       "        [ 9, 10, 11]],\n",
       "\n",
       "       [[12, 13, 14],\n",
       "        [15, 16, 17],\n",
       "        [18, 19, 20],\n",
       "        [21, 22, 23]],\n",
       "\n",
       "       [[24, 25, 26],\n",
       "        [27, 28, 29],\n",
       "        [30, 31, 32],\n",
       "        [33, 34, 35]],\n",
       "\n",
       "       [[36, 37, 38],\n",
       "        [39, 40, 41],\n",
       "        [42, 43, 44],\n",
       "        [45, 46, 47]],\n",
       "\n",
       "       [[48, 49, 50],\n",
       "        [51, 52, 53],\n",
       "        [54, 55, 56],\n",
       "        [57, 58, 59]]])"
      ]
     },
     "execution_count": 141,
     "metadata": {},
     "output_type": "execute_result"
    }
   ],
   "source": [
    "arr1 = np.arange(60).reshape(5,4,3)\n",
    "arr1"
   ]
  },
  {
   "cell_type": "code",
   "execution_count": 142,
   "metadata": {},
   "outputs": [
    {
     "data": {
      "text/plain": [
       "array([[ 0,  1,  2],\n",
       "       [ 3,  4,  5],\n",
       "       [ 6,  7,  8],\n",
       "       [ 9, 10, 11]])"
      ]
     },
     "execution_count": 142,
     "metadata": {},
     "output_type": "execute_result"
    }
   ],
   "source": [
    "arr2 = np.arange(12).reshape(4,3)\n",
    "arr2"
   ]
  },
  {
   "cell_type": "code",
   "execution_count": 143,
   "metadata": {},
   "outputs": [
    {
     "data": {
      "text/plain": [
       "array([[[ 0,  2,  4],\n",
       "        [ 6,  8, 10],\n",
       "        [12, 14, 16],\n",
       "        [18, 20, 22]],\n",
       "\n",
       "       [[12, 14, 16],\n",
       "        [18, 20, 22],\n",
       "        [24, 26, 28],\n",
       "        [30, 32, 34]],\n",
       "\n",
       "       [[24, 26, 28],\n",
       "        [30, 32, 34],\n",
       "        [36, 38, 40],\n",
       "        [42, 44, 46]],\n",
       "\n",
       "       [[36, 38, 40],\n",
       "        [42, 44, 46],\n",
       "        [48, 50, 52],\n",
       "        [54, 56, 58]],\n",
       "\n",
       "       [[48, 50, 52],\n",
       "        [54, 56, 58],\n",
       "        [60, 62, 64],\n",
       "        [66, 68, 70]]])"
      ]
     },
     "execution_count": 143,
     "metadata": {},
     "output_type": "execute_result"
    }
   ],
   "source": [
    "# 维数不一直，但是末尾的维度值是一致的\n",
    "arr1 + arr2"
   ]
  },
  {
   "cell_type": "code",
   "execution_count": 144,
   "metadata": {},
   "outputs": [
    {
     "data": {
      "text/plain": [
       "array([[[ 0,  1,  2],\n",
       "        [ 3,  4,  5],\n",
       "        [ 6,  7,  8],\n",
       "        [ 9, 10, 11]],\n",
       "\n",
       "       [[12, 13, 14],\n",
       "        [15, 16, 17],\n",
       "        [18, 19, 20],\n",
       "        [21, 22, 23]],\n",
       "\n",
       "       [[24, 25, 26],\n",
       "        [27, 28, 29],\n",
       "        [30, 31, 32],\n",
       "        [33, 34, 35]],\n",
       "\n",
       "       [[36, 37, 38],\n",
       "        [39, 40, 41],\n",
       "        [42, 43, 44],\n",
       "        [45, 46, 47]],\n",
       "\n",
       "       [[48, 49, 50],\n",
       "        [51, 52, 53],\n",
       "        [54, 55, 56],\n",
       "        [57, 58, 59]]])"
      ]
     },
     "execution_count": 144,
     "metadata": {},
     "output_type": "execute_result"
    }
   ],
   "source": [
    "arr1 = np.arange(60).reshape(5,4,3)\n",
    "arr1"
   ]
  },
  {
   "cell_type": "code",
   "execution_count": 145,
   "metadata": {},
   "outputs": [
    {
     "data": {
      "text/plain": [
       "array([[0],\n",
       "       [1],\n",
       "       [2],\n",
       "       [3]])"
      ]
     },
     "execution_count": 145,
     "metadata": {},
     "output_type": "execute_result"
    }
   ],
   "source": [
    "arr2 = np.arange(4).reshape(4,1)\n",
    "arr2"
   ]
  },
  {
   "cell_type": "code",
   "execution_count": 146,
   "metadata": {},
   "outputs": [
    {
     "data": {
      "text/plain": [
       "array([[[ 0,  1,  2],\n",
       "        [ 4,  5,  6],\n",
       "        [ 8,  9, 10],\n",
       "        [12, 13, 14]],\n",
       "\n",
       "       [[12, 13, 14],\n",
       "        [16, 17, 18],\n",
       "        [20, 21, 22],\n",
       "        [24, 25, 26]],\n",
       "\n",
       "       [[24, 25, 26],\n",
       "        [28, 29, 30],\n",
       "        [32, 33, 34],\n",
       "        [36, 37, 38]],\n",
       "\n",
       "       [[36, 37, 38],\n",
       "        [40, 41, 42],\n",
       "        [44, 45, 46],\n",
       "        [48, 49, 50]],\n",
       "\n",
       "       [[48, 49, 50],\n",
       "        [52, 53, 54],\n",
       "        [56, 57, 58],\n",
       "        [60, 61, 62]]])"
      ]
     },
     "execution_count": 146,
     "metadata": {},
     "output_type": "execute_result"
    }
   ],
   "source": [
    "arr1+arr2"
   ]
  },
  {
   "cell_type": "code",
   "execution_count": 147,
   "metadata": {},
   "outputs": [
    {
     "data": {
      "text/plain": [
       "array([[ 0,  1,  2],\n",
       "       [ 3,  4,  5],\n",
       "       [ 6,  7,  8],\n",
       "       [ 9, 10, 11]])"
      ]
     },
     "execution_count": 147,
     "metadata": {},
     "output_type": "execute_result"
    }
   ],
   "source": [
    "## 自动补齐\n",
    "arr1 = np.arange(12).reshape(4,3)\n",
    "arr2 = np.array([1,2,3])\n",
    "arr1\n"
   ]
  },
  {
   "cell_type": "code",
   "execution_count": 148,
   "metadata": {},
   "outputs": [
    {
     "data": {
      "text/plain": [
       "array([1, 2, 3])"
      ]
     },
     "execution_count": 148,
     "metadata": {},
     "output_type": "execute_result"
    }
   ],
   "source": [
    "arr2"
   ]
  },
  {
   "cell_type": "code",
   "execution_count": 149,
   "metadata": {},
   "outputs": [
    {
     "data": {
      "text/plain": [
       "array([[ 1,  3,  5],\n",
       "       [ 4,  6,  8],\n",
       "       [ 7,  9, 11],\n",
       "       [10, 12, 14]])"
      ]
     },
     "execution_count": 149,
     "metadata": {},
     "output_type": "execute_result"
    }
   ],
   "source": [
    "arr1 + arr2"
   ]
  },
  {
   "cell_type": "code",
   "execution_count": 150,
   "metadata": {},
   "outputs": [
    {
     "data": {
      "text/plain": [
       "array([[0, 1],\n",
       "       [2, 3],\n",
       "       [4, 5],\n",
       "       [6, 7]])"
      ]
     },
     "execution_count": 150,
     "metadata": {},
     "output_type": "execute_result"
    }
   ],
   "source": [
    "## 像下面这种情况是不可以做运算的情况\n",
    "arr1 = np.arange(60).reshape(5,4,3)\n",
    "arr2 = np.arange(8).reshape(4,2)\n",
    "arr2"
   ]
  },
  {
   "cell_type": "code",
   "execution_count": 151,
   "metadata": {},
   "outputs": [
    {
     "ename": "ValueError",
     "evalue": "operands could not be broadcast together with shapes (5,4,3) (4,2) ",
     "output_type": "error",
     "traceback": [
      "\u001b[0;31m---------------------------------------------------------------------------\u001b[0m",
      "\u001b[0;31mValueError\u001b[0m                                Traceback (most recent call last)",
      "\u001b[0;32m<ipython-input-151-d972d21b639e>\u001b[0m in \u001b[0;36m<module>\u001b[0;34m\u001b[0m\n\u001b[0;32m----> 1\u001b[0;31m \u001b[0marr1\u001b[0m \u001b[0;34m+\u001b[0m \u001b[0marr2\u001b[0m\u001b[0;34m\u001b[0m\u001b[0m\n\u001b[0m",
      "\u001b[0;31mValueError\u001b[0m: operands could not be broadcast together with shapes (5,4,3) (4,2) "
     ]
    }
   ],
   "source": [
    "arr1 + arr2"
   ]
  },
  {
   "cell_type": "markdown",
   "metadata": {},
   "source": [
    "## 条件逻辑转数组"
   ]
  },
  {
   "cell_type": "markdown",
   "metadata": {},
   "source": [
    "- x if condition else y\n",
    "- 当条件condition成立的时候，表达式返回的值是x，不成立的时候返回的是y\n",
    "- np.where 一般用于根据一个数组产生一个新的数组"
   ]
  },
  {
   "cell_type": "code",
   "execution_count": 152,
   "metadata": {},
   "outputs": [],
   "source": [
    "x_arr = np.array([1.1,1.2,1.3])\n",
    "y_arr = np.array([2.1,2.2,2.3])\n",
    "condition = np.array([True,False,True])\n",
    "\n",
    "result = [(x if c else y) for x,y,c in zip(x_arr,y_arr,condition)]\n",
    "## zip的参数是可迭代的对象\n",
    "## zip就会将对象中对应的元素打包成一个个的元组，然后返回由这些元组组成的列表"
   ]
  },
  {
   "cell_type": "code",
   "execution_count": 153,
   "metadata": {},
   "outputs": [
    {
     "data": {
      "text/plain": [
       "[1.1, 2.2, 1.3]"
      ]
     },
     "execution_count": 153,
     "metadata": {},
     "output_type": "execute_result"
    }
   ],
   "source": [
    "result"
   ]
  },
  {
   "cell_type": "code",
   "execution_count": 155,
   "metadata": {},
   "outputs": [
    {
     "data": {
      "text/plain": [
       "array([1.1, 2.2, 1.3])"
      ]
     },
     "execution_count": 155,
     "metadata": {},
     "output_type": "execute_result"
    }
   ],
   "source": [
    "result = np.where(condition,x_arr,y_arr)\n",
    "result"
   ]
  },
  {
   "cell_type": "code",
   "execution_count": 156,
   "metadata": {},
   "outputs": [
    {
     "data": {
      "text/plain": [
       "array([[ 0.87606132, -0.231048  , -1.07355268, -0.89246651],\n",
       "       [-0.08804727, -0.30132327,  0.28206941,  1.09189751],\n",
       "       [-0.75803511,  0.83917468, -1.68988666, -0.93955701],\n",
       "       [-0.38754202,  2.08316743, -0.51492851,  0.67055673]])"
      ]
     },
     "execution_count": 156,
     "metadata": {},
     "output_type": "execute_result"
    }
   ],
   "source": [
    "## 值的替换\n",
    "arr = np.random.randn(4,4)\n",
    "arr"
   ]
  },
  {
   "cell_type": "code",
   "execution_count": 158,
   "metadata": {},
   "outputs": [
    {
     "data": {
      "text/plain": [
       "array([[ 2, -2, -2, -2],\n",
       "       [-2, -2,  2,  2],\n",
       "       [-2,  2, -2, -2],\n",
       "       [-2,  2, -2,  2]])"
      ]
     },
     "execution_count": 158,
     "metadata": {},
     "output_type": "execute_result"
    }
   ],
   "source": [
    "# np.where 支持3个参数，第一个参数是条件，第二个参数是条件成立的时候返回的值\n",
    "# 第三个参数是条件不成立的时候返回的值\n",
    "arr_1 = np.where(arr>0.2,2,-2)\n",
    "arr_1"
   ]
  },
  {
   "cell_type": "code",
   "execution_count": 160,
   "metadata": {},
   "outputs": [
    {
     "data": {
      "text/plain": [
       "array([[ 2.        , -0.231048  , -1.07355268, -0.89246651],\n",
       "       [-0.08804727, -0.30132327,  2.        ,  2.        ],\n",
       "       [-0.75803511,  2.        , -1.68988666, -0.93955701],\n",
       "       [-0.38754202,  2.        , -0.51492851,  2.        ]])"
      ]
     },
     "execution_count": 160,
     "metadata": {},
     "output_type": "execute_result"
    }
   ],
   "source": [
    "arr_2 = np.where(arr>0,2,arr)\n",
    "arr_2"
   ]
  },
  {
   "cell_type": "code",
   "execution_count": null,
   "metadata": {},
   "outputs": [],
   "source": []
  }
 ],
 "metadata": {
  "kernelspec": {
   "display_name": "Python 3",
   "language": "python",
   "name": "python3"
  },
  "language_info": {
   "codemirror_mode": {
    "name": "ipython",
    "version": 3
   },
   "file_extension": ".py",
   "mimetype": "text/x-python",
   "name": "python",
   "nbconvert_exporter": "python",
   "pygments_lexer": "ipython3",
   "version": "3.6.3"
  }
 },
 "nbformat": 4,
 "nbformat_minor": 2
}
